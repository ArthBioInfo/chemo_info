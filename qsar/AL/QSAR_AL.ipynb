{
 "cells": [
  {
   "cell_type": "code",
   "execution_count": 1,
   "metadata": {
    "collapsed": false
   },
   "outputs": [],
   "source": [
    "%matplotlib inline\n",
    "import matplotlib.pyplot as plt\n",
    "import numpy as np\n",
    "import pandas as pd\n",
    "from rdkit import Chem\n",
    "from rdkit.Chem import AllChem\n",
    "from rdkit.Chem import DataStructs\n",
    "from sklearn.svm import SVC\n",
    "from sklearn.ensemble import RandomForestClassifier\n",
    "from sklearn.gaussian_process import GaussianProcessClassifier\n",
    "from sklearn.preprocessing import OneHotEncoder, LabelEncoder\n",
    "from modAL.models import ActiveLearner\n",
    "from modAL.models import uncertainty_sampling"
   ]
  },
  {
   "cell_type": "code",
   "execution_count": 2,
   "metadata": {
    "collapsed": true
   },
   "outputs": [],
   "source": [
    "train_mols = [ m for m in Chem.SDMolSupplier(\"solubility.train.sdf\") if m != None ]\n",
    "test_mols =  [ m for m in Chem.SDMolSupplier(\"solubility.test.sdf\") if m != None ]"
   ]
  },
  {
   "cell_type": "code",
   "execution_count": 3,
   "metadata": {
    "collapsed": false
   },
   "outputs": [
    {
     "data": {
      "text/plain": [
       "1025"
      ]
     },
     "execution_count": 3,
     "metadata": {},
     "output_type": "execute_result"
    }
   ],
   "source": [
    "len(train_mols)"
   ]
  },
  {
   "cell_type": "code",
   "execution_count": 4,
   "metadata": {
    "collapsed": false
   },
   "outputs": [
    {
     "name": "stdout",
     "output_type": "stream",
     "text": [
      "['ID', 'NAME', 'SOL', 'SOL_classification', 'smiles']\n"
     ]
    }
   ],
   "source": [
    "print(list(train_mols[0].GetPropNames()))"
   ]
  },
  {
   "cell_type": "code",
   "execution_count": 5,
   "metadata": {
    "collapsed": false
   },
   "outputs": [],
   "source": [
    "def mol2fp(mol):\n",
    "    arr = np.zeros(0,)\n",
    "    fp = AllChem.GetMorganFingerprintAsBitVect(mol, 2)\n",
    "    DataStructs.ConvertToNumpyArray(fp, arr)\n",
    "    return arr\n",
    "\n",
    "trainX = np.array([mol2fp(mol) for mol in train_mols])\n",
    "testX = np.array([mol2fp(mol) for mol in test_mols])"
   ]
  },
  {
   "cell_type": "code",
   "execution_count": 6,
   "metadata": {
    "collapsed": false
   },
   "outputs": [
    {
     "name": "stdout",
     "output_type": "stream",
     "text": [
      "['(C) high', '(B) medium', '(A) low']\n"
     ]
    }
   ],
   "source": [
    "clses = list(set(train_mols[i].GetProp(\"SOL_classification\") for i in range(len(train_mols))))\n",
    "print(clses)"
   ]
  },
  {
   "cell_type": "code",
   "execution_count": 7,
   "metadata": {
    "collapsed": false
   },
   "outputs": [
    {
     "data": {
      "text/plain": [
       "LabelEncoder()"
      ]
     },
     "execution_count": 7,
     "metadata": {},
     "output_type": "execute_result"
    }
   ],
   "source": [
    "le = LabelEncoder()\n",
    "le.fit(clses)"
   ]
  },
  {
   "cell_type": "code",
   "execution_count": 8,
   "metadata": {
    "collapsed": false
   },
   "outputs": [],
   "source": [
    "trainy = le.fit_transform([m.GetProp(\"SOL_classification\") for m in train_mols]).ravel()\n",
    "testy = le.fit_transform([m.GetProp(\"SOL_classification\") for m in test_mols]).ravel()"
   ]
  },
  {
   "cell_type": "code",
   "execution_count": 9,
   "metadata": {
    "collapsed": false
   },
   "outputs": [],
   "source": [
    "from sklearn.metrics import classification_report, confusion_matrix"
   ]
  },
  {
   "cell_type": "code",
   "execution_count": 10,
   "metadata": {
    "collapsed": false
   },
   "outputs": [],
   "source": [
    "def train_and_mapper(classifier, traindata, testdata):\n",
    "    classifier.fit(traindata[0], traindata[1])\n",
    "    pred = classifier.predict(testdata[0])\n",
    "    print(classification_report(testdata[1], pred))\n",
    "    conf_mat = confusion_matrix(testdata[1], pred)\n",
    "    print(conf_mat)\n",
    "    norm_conf_mat = conf_mat/np.sum(conf_mat, axis=1)\n",
    "    plt.imshow(norm_conf_mat, cmap=plt.cm.Blues)\n",
    "    plt.colorbar()\n",
    "    "
   ]
  },
  {
   "cell_type": "code",
   "execution_count": 11,
   "metadata": {
    "collapsed": false
   },
   "outputs": [
    {
     "name": "stdout",
     "output_type": "stream",
     "text": [
      "             precision    recall  f1-score   support\n",
      "\n",
      "          0       0.72      0.78      0.75       102\n",
      "          1       0.71      0.60      0.65       115\n",
      "          2       0.57      0.70      0.63        40\n",
      "\n",
      "avg / total       0.69      0.69      0.69       257\n",
      "\n",
      "[[80 16  6]\n",
      " [31 69 15]\n",
      " [ 0 12 28]]\n"
     ]
    },
    {
     "data": {
      "image/png": "[encoded data removed]",
      "text/plain": [
       "<Figure size 432x288 with 2 Axes>"
      ]
     },
     "metadata": {},
     "output_type": "display_data"
    }
   ],
   "source": [
    "rfc = RandomForestClassifier()\n",
    "train_and_mapper(rfc, [trainX, trainy], [testX, testy])"
   ]
  },
  {
   "cell_type": "code",
   "execution_count": 12,
   "metadata": {
    "collapsed": false
   },
   "outputs": [
    {
     "name": "stdout",
     "output_type": "stream",
     "text": [
      "             precision    recall  f1-score   support\n",
      "\n",
      "          0       0.72      0.74      0.73       102\n",
      "          1       0.68      0.60      0.64       115\n",
      "          2       0.51      0.65      0.57        40\n",
      "\n",
      "avg / total       0.67      0.66      0.66       257\n",
      "\n",
      "[[75 21  6]\n",
      " [27 69 19]\n",
      " [ 2 12 26]]\n"
     ]
    },
    {
     "data": {
      "image/png": "[encoded data removed]",
      "text/plain": [
       "<Figure size 432x288 with 2 Axes>"
      ]
     },
     "metadata": {},
     "output_type": "display_data"
    }
   ],
   "source": [
    "gpc = GaussianProcessClassifier()\n",
    "train_and_mapper(gpc, [trainX, trainy], [testX, testy])"
   ]
  },
  {
   "cell_type": "code",
   "execution_count": 13,
   "metadata": {
    "collapsed": false
   },
   "outputs": [
    {
     "name": "stdout",
     "output_type": "stream",
     "text": [
      "             precision    recall  f1-score   support\n",
      "\n",
      "          0       0.75      0.75      0.75       102\n",
      "          1       0.72      0.70      0.71       115\n",
      "          2       0.70      0.78      0.74        40\n",
      "\n",
      "avg / total       0.73      0.73      0.73       257\n",
      "\n",
      "[[77 22  3]\n",
      " [25 80 10]\n",
      " [ 0  9 31]]\n"
     ]
    },
    {
     "data": {
      "image/png": "[encoded data removed]",
      "text/plain": [
       "<Figure size 432x288 with 2 Axes>"
      ]
     },
     "metadata": {},
     "output_type": "display_data"
    }
   ],
   "source": [
    "svc = SVC(C=100)\n",
    "train_and_mapper(svc, [trainX, trainy], [testX, testy])"
   ]
  },
  {
   "cell_type": "code",
   "execution_count": null,
   "metadata": {
    "collapsed": true
   },
   "outputs": [],
   "source": []
  },
  {
   "cell_type": "code",
   "execution_count": 14,
   "metadata": {
    "collapsed": false
   },
   "outputs": [],
   "source": [
    "np.random.seed(794)\n",
    "sampling_n = 10\n",
    "init_idx = np.random.choice(len(trainX), sampling_n, replace=False )"
   ]
  },
  {
   "cell_type": "code",
   "execution_count": 15,
   "metadata": {
    "collapsed": false
   },
   "outputs": [],
   "source": [
    "initX, inity = trainX[init_idx], trainy[init_idx]"
   ]
  },
  {
   "cell_type": "code",
   "execution_count": 16,
   "metadata": {
    "collapsed": false
   },
   "outputs": [],
   "source": [
    "learner = ActiveLearner(\n",
    "                                         estimator=RandomForestClassifier(),\n",
    "                                         X_training=initX,\n",
    "                                         y_training=inity,\n",
    "                                         query_strategy=uncertainty_sampling)"
   ]
  },
  {
   "cell_type": "code",
   "execution_count": 17,
   "metadata": {
    "collapsed": false
   },
   "outputs": [
    {
     "name": "stdout",
     "output_type": "stream",
     "text": [
      "0 th learning result\n",
      "             precision    recall  f1-score   support\n",
      "\n",
      "          0       0.45      0.49      0.47       102\n",
      "          1       0.44      0.28      0.34       115\n",
      "          2       0.31      0.57      0.40        40\n",
      "\n",
      "avg / total       0.43      0.41      0.40       257\n",
      "\n",
      "10 th learning result\n",
      "             precision    recall  f1-score   support\n",
      "\n",
      "          0       0.65      0.51      0.57       102\n",
      "          1       0.53      0.72      0.61       115\n",
      "          2       0.48      0.25      0.33        40\n",
      "\n",
      "avg / total       0.57      0.56      0.55       257\n",
      "\n"
     ]
    }
   ],
   "source": [
    "# init10 samples +10 samples x 51 steps = 520 samples for learning\n",
    "n_learn = 20\n",
    "for i in range(n_learn):\n",
    "    query_idx, query_instance = learner.query(trainX, n_instances=10)\n",
    "    learner.teach(X = trainX[query_idx], y = trainy[query_idx])\n",
    "    if i % 10 == 0:\n",
    "        print('{} th learning result'.format(i))\n",
    "        print(classification_report(testy, learner.predict(testX)))\n",
    "\n",
    "    "
   ]
  },
  {
   "cell_type": "code",
   "execution_count": 18,
   "metadata": {
    "collapsed": false
   },
   "outputs": [],
   "source": [
    "al_pred = learner.predict(testX)"
   ]
  },
  {
   "cell_type": "code",
   "execution_count": 19,
   "metadata": {
    "collapsed": false
   },
   "outputs": [
    {
     "name": "stdout",
     "output_type": "stream",
     "text": [
      "             precision    recall  f1-score   support\n",
      "\n",
      "          0       0.69      0.55      0.61       102\n",
      "          1       0.56      0.73      0.64       115\n",
      "          2       0.44      0.30      0.36        40\n",
      "\n",
      "avg / total       0.60      0.59      0.58       257\n",
      "\n",
      "[[56 40  6]\n",
      " [22 84  9]\n",
      " [ 3 25 12]]\n"
     ]
    },
    {
     "data": {
      "text/plain": [
       "<matplotlib.colorbar.Colorbar at 0x1a1833b748>"
      ]
     },
     "execution_count": 19,
     "metadata": {},
     "output_type": "execute_result"
    },
    {
     "data": {
      "image/png": "[encoded data removed]",
      "text/plain": [
       "<Figure size 432x288 with 2 Axes>"
      ]
     },
     "metadata": {},
     "output_type": "display_data"
    }
   ],
   "source": [
    "print(classification_report(testy, al_pred))\n",
    "conf_mat = confusion_matrix(testy, al_pred)\n",
    "print(conf_mat)\n",
    "norm_conf_mat = conf_mat/np.sum(conf_mat, axis=1)\n",
    "plt.imshow(norm_conf_mat, cmap=plt.cm.Blues)\n",
    "plt.colorbar()"
   ]
  },
  {
   "cell_type": "code",
   "execution_count": 20,
   "metadata": {
    "collapsed": false
   },
   "outputs": [
    {
     "name": "stdout",
     "output_type": "stream",
     "text": [
      "0.4068292682926829\n",
      "0.3921951219512195\n",
      "0.20097560975609757\n"
     ]
    }
   ],
   "source": [
    "print(len(trainy[trainy==0])/len(trainy))\n",
    "print(len(trainy[trainy==1])/len(trainy))\n",
    "print(len(trainy[trainy==2])/len(trainy))"
   ]
  },
  {
   "cell_type": "code",
   "execution_count": 21,
   "metadata": {
    "collapsed": false
   },
   "outputs": [
    {
     "name": "stdout",
     "output_type": "stream",
     "text": [
      "             precision    recall  f1-score   support\n",
      "\n",
      "          0       0.55      0.72      0.62       102\n",
      "          1       0.56      0.47      0.51       115\n",
      "          2       0.48      0.33      0.39        40\n",
      "\n",
      "avg / total       0.54      0.54      0.53       257\n",
      "\n",
      "[[73 27  2]\n",
      " [49 54 12]\n",
      " [11 16 13]]\n"
     ]
    },
    {
     "data": {
      "image/png": "[encoded data removed]",
      "text/plain": [
       "<Figure size 432x288 with 2 Axes>"
      ]
     },
     "metadata": {},
     "output_type": "display_data"
    }
   ],
   "source": [
    "np.random.seed(794)\n",
    "sampling_n = 210\n",
    "init_idx = np.random.choice(len(trainX), sampling_n, replace=False )\n",
    "rfc = RandomForestClassifier()\n",
    "train_and_mapper(rfc, [trainX[init_idx], trainy[init_idx]], [testX, testy])"
   ]
  },
  {
   "cell_type": "code",
   "execution_count": null,
   "metadata": {
    "collapsed": true
   },
   "outputs": [],
   "source": []
  }
 ],
 "metadata": {
  "anaconda-cloud": {},
  "kernelspec": {
   "display_name": "Python [default]",
   "language": "python",
   "name": "python3"
  },
  "language_info": {
   "codemirror_mode": {
    "name": "ipython",
    "version": 3
   },
   "file_extension": ".py",
   "mimetype": "text/x-python",
   "name": "python",
   "nbconvert_exporter": "python",
   "pygments_lexer": "ipython3",
   "version": "3.5.4"
  }
 },
 "nbformat": 4,
 "nbformat_minor": 1
}
