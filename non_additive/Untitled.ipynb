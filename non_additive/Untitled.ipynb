{
 "cells": [
  {
   "cell_type": "code",
   "execution_count": 1,
   "metadata": {
    "collapsed": true
   },
   "outputs": [],
   "source": [
    "from rdkit import Chem\n",
    "from rdkit.Chem import Draw"
   ]
  },
  {
   "cell_type": "code",
   "execution_count": 2,
   "metadata": {
    "collapsed": true
   },
   "outputs": [],
   "source": [
    "from rdkit.Chem.Draw import IPythonConsole"
   ]
  },
  {
   "cell_type": "code",
   "execution_count": 3,
   "metadata": {
    "collapsed": true
   },
   "outputs": [],
   "source": [
    "import pandas as pd\n"
   ]
  },
  {
   "cell_type": "code",
   "execution_count": 9,
   "metadata": {
    "collapsed": true
   },
   "outputs": [],
   "source": [
    "inf = pd.read_csv('sample_mmps_default.csv',header=None)"
   ]
  },
  {
   "cell_type": "code",
   "execution_count": 10,
   "metadata": {
    "collapsed": false
   },
   "outputs": [
    {
     "data": {
      "text/html": [
       "<div style=\"max-height:1000px;max-width:1500px;overflow:auto;\">\n",
       "<table border=\"1\" class=\"dataframe\">\n",
       "  <thead>\n",
       "    <tr style=\"text-align: right;\">\n",
       "      <th></th>\n",
       "      <th>0</th>\n",
       "      <th>1</th>\n",
       "      <th>2</th>\n",
       "      <th>3</th>\n",
       "      <th>4</th>\n",
       "      <th>5</th>\n",
       "    </tr>\n",
       "  </thead>\n",
       "  <tbody>\n",
       "    <tr>\n",
       "      <th>0</th>\n",
       "      <td> Cc1cccn2cc(-c3cccc(S(=O)(=O)N4CCCCC4)c3)nc12</td>\n",
       "      <td> Cc1cccn2cc(-c3ccc(S(=O)(=O)N4CCCCC4)cc3)nc12</td>\n",
       "      <td> 2963575</td>\n",
       "      <td> 1156028</td>\n",
       "      <td>    [*:1]c1cccc([*:2])c1&gt;&gt;[*:1]c1ccc([*:2])cc1</td>\n",
       "      <td> [*:1]c1cn2cccc(C)c2n1.[*:2]S(=O)(=O)N1CCCCC1</td>\n",
       "    </tr>\n",
       "    <tr>\n",
       "      <th>1</th>\n",
       "      <td>                    c1cc2c(ncnc2NCc2cccnc2)s1</td>\n",
       "      <td>                    c1cc2c(ncnc2NCc2ccccc2)s1</td>\n",
       "      <td> 2531831</td>\n",
       "      <td> 2139597</td>\n",
       "      <td>                [*:1]Cc1cccnc1&gt;&gt;[*:1]Cc1ccccc1</td>\n",
       "      <td>                          [*:1]Nc1ncnc2sccc21</td>\n",
       "    </tr>\n",
       "    <tr>\n",
       "      <th>2</th>\n",
       "      <td>                Cc1cc(C)n(Cc2ccc(C(=O)O)o2)n1</td>\n",
       "      <td>               Cc1cc(C)n(Cc2ccc(C(=O)O)cc2)n1</td>\n",
       "      <td>  658387</td>\n",
       "      <td>  615212</td>\n",
       "      <td> [*:1]Cc1ccc(C(=O)O)o1&gt;&gt;[*:1]Cc1ccc(C(=O)O)cc1</td>\n",
       "      <td>                             [*:1]n1nc(C)cc1C</td>\n",
       "    </tr>\n",
       "    <tr>\n",
       "      <th>3</th>\n",
       "      <td>         O=C(O)c1ccc(NC(=O)C2COc3ccccc3O2)cc1</td>\n",
       "      <td>         NC(=O)c1ccc(NC(=O)C2COc3ccccc3O2)cc1</td>\n",
       "      <td> 2881039</td>\n",
       "      <td> 2787356</td>\n",
       "      <td>  [*:1]c1ccc(C(=O)O)cc1&gt;&gt;[*:1]c1ccc(C(N)=O)cc1</td>\n",
       "      <td>                    [*:1]NC(=O)C1COc2ccccc2O1</td>\n",
       "    </tr>\n",
       "    <tr>\n",
       "      <th>4</th>\n",
       "      <td>         O=C(O)c1ccc(NC(=O)C2COc3ccccc3O2)cc1</td>\n",
       "      <td>         NC(=O)c1ccc(NC(=O)C2COc3ccccc3O2)cc1</td>\n",
       "      <td> 2881039</td>\n",
       "      <td> 2787356</td>\n",
       "      <td>                      [*:1]C(=O)O&gt;&gt;[*:1]C(N)=O</td>\n",
       "      <td>          [*:1]c1ccc(NC(=O)C2COc3ccccc3O2)cc1</td>\n",
       "    </tr>\n",
       "  </tbody>\n",
       "</table>\n",
       "</div>"
      ],
      "text/plain": [
       "                                              0  \\\n",
       "0  Cc1cccn2cc(-c3cccc(S(=O)(=O)N4CCCCC4)c3)nc12   \n",
       "1                     c1cc2c(ncnc2NCc2cccnc2)s1   \n",
       "2                 Cc1cc(C)n(Cc2ccc(C(=O)O)o2)n1   \n",
       "3          O=C(O)c1ccc(NC(=O)C2COc3ccccc3O2)cc1   \n",
       "4          O=C(O)c1ccc(NC(=O)C2COc3ccccc3O2)cc1   \n",
       "\n",
       "                                              1        2        3  \\\n",
       "0  Cc1cccn2cc(-c3ccc(S(=O)(=O)N4CCCCC4)cc3)nc12  2963575  1156028   \n",
       "1                     c1cc2c(ncnc2NCc2ccccc2)s1  2531831  2139597   \n",
       "2                Cc1cc(C)n(Cc2ccc(C(=O)O)cc2)n1   658387   615212   \n",
       "3          NC(=O)c1ccc(NC(=O)C2COc3ccccc3O2)cc1  2881039  2787356   \n",
       "4          NC(=O)c1ccc(NC(=O)C2COc3ccccc3O2)cc1  2881039  2787356   \n",
       "\n",
       "                                               4  \\\n",
       "0     [*:1]c1cccc([*:2])c1>>[*:1]c1ccc([*:2])cc1   \n",
       "1                 [*:1]Cc1cccnc1>>[*:1]Cc1ccccc1   \n",
       "2  [*:1]Cc1ccc(C(=O)O)o1>>[*:1]Cc1ccc(C(=O)O)cc1   \n",
       "3   [*:1]c1ccc(C(=O)O)cc1>>[*:1]c1ccc(C(N)=O)cc1   \n",
       "4                       [*:1]C(=O)O>>[*:1]C(N)=O   \n",
       "\n",
       "                                              5  \n",
       "0  [*:1]c1cn2cccc(C)c2n1.[*:2]S(=O)(=O)N1CCCCC1  \n",
       "1                           [*:1]Nc1ncnc2sccc21  \n",
       "2                              [*:1]n1nc(C)cc1C  \n",
       "3                     [*:1]NC(=O)C1COc2ccccc2O1  \n",
       "4           [*:1]c1ccc(NC(=O)C2COc3ccccc3O2)cc1  "
      ]
     },
     "execution_count": 10,
     "metadata": {},
     "output_type": "execute_result"
    }
   ],
   "source": [
    "inf.head()"
   ]
  },
  {
   "cell_type": "code",
   "execution_count": 11,
   "metadata": {
    "collapsed": true
   },
   "outputs": [],
   "source": [
    "from rdkit.Chem import PandasTools"
   ]
  },
  {
   "cell_type": "code",
   "execution_count": 20,
   "metadata": {
    "collapsed": false
   },
   "outputs": [
    {
     "data": {
      "text/html": [
       "<div style=\"max-height:1000px;max-width:1500px;overflow:auto;\">\n",
       "<table border=\"1\" class=\"dataframe\">\n",
       "  <thead>\n",
       "    <tr style=\"text-align: right;\">\n",
       "      <th></th>\n",
       "      <th>4</th>\n",
       "    </tr>\n",
       "  </thead>\n",
       "  <tbody>\n",
       "    <tr>\n",
       "      <th>0 </th>\n",
       "      <td>    [*:1]c1cccc([*:2])c1>>[*:1]c1ccc([*:2])cc1</td>\n",
       "    </tr>\n",
       "    <tr>\n",
       "      <th>1 </th>\n",
       "      <td>                [*:1]Cc1cccnc1>>[*:1]Cc1ccccc1</td>\n",
       "    </tr>\n",
       "    <tr>\n",
       "      <th>2 </th>\n",
       "      <td> [*:1]Cc1ccc(C(=O)O)o1>>[*:1]Cc1ccc(C(=O)O)cc1</td>\n",
       "    </tr>\n",
       "    <tr>\n",
       "      <th>3 </th>\n",
       "      <td>  [*:1]c1ccc(C(=O)O)cc1>>[*:1]c1ccc(C(N)=O)cc1</td>\n",
       "    </tr>\n",
       "    <tr>\n",
       "      <th>4 </th>\n",
       "      <td>                      [*:1]C(=O)O>>[*:1]C(N)=O</td>\n",
       "    </tr>\n",
       "    <tr>\n",
       "      <th>5 </th>\n",
       "      <td>   [*:1]c1ccc(C(=O)O)o1>>[*:1]c1ccc(C(=O)O)cc1</td>\n",
       "    </tr>\n",
       "    <tr>\n",
       "      <th>6 </th>\n",
       "      <td>                                [*:1]N>>[*:1]O</td>\n",
       "    </tr>\n",
       "    <tr>\n",
       "      <th>7 </th>\n",
       "      <td>              [*:1]NCc1cccnc1>>[*:1]NCc1ccccc1</td>\n",
       "    </tr>\n",
       "    <tr>\n",
       "      <th>8 </th>\n",
       "      <td>            [*:1]c1ccc(N)cc1>>[*:1]c1ccc(O)cc1</td>\n",
       "    </tr>\n",
       "    <tr>\n",
       "      <th>9 </th>\n",
       "      <td>     [*:1]c1ccc([*:2])o1>>[*:1]c1ccc([*:2])cc1</td>\n",
       "    </tr>\n",
       "    <tr>\n",
       "      <th>10</th>\n",
       "      <td>                  [*:1]c1cccnc1>>[*:1]c1ccccc1</td>\n",
       "    </tr>\n",
       "    <tr>\n",
       "      <th>11</th>\n",
       "      <td>   [*:1]Cc1ccc([*:2])o1>>[*:1]Cc1ccc([*:2])cc1</td>\n",
       "    </tr>\n",
       "  </tbody>\n",
       "</table>\n",
       "</div>"
      ],
      "text/plain": [
       "                                                4\n",
       "0      [*:1]c1cccc([*:2])c1>>[*:1]c1ccc([*:2])cc1\n",
       "1                  [*:1]Cc1cccnc1>>[*:1]Cc1ccccc1\n",
       "2   [*:1]Cc1ccc(C(=O)O)o1>>[*:1]Cc1ccc(C(=O)O)cc1\n",
       "3    [*:1]c1ccc(C(=O)O)cc1>>[*:1]c1ccc(C(N)=O)cc1\n",
       "4                        [*:1]C(=O)O>>[*:1]C(N)=O\n",
       "5     [*:1]c1ccc(C(=O)O)o1>>[*:1]c1ccc(C(=O)O)cc1\n",
       "6                                  [*:1]N>>[*:1]O\n",
       "7                [*:1]NCc1cccnc1>>[*:1]NCc1ccccc1\n",
       "8              [*:1]c1ccc(N)cc1>>[*:1]c1ccc(O)cc1\n",
       "9       [*:1]c1ccc([*:2])o1>>[*:1]c1ccc([*:2])cc1\n",
       "10                   [*:1]c1cccnc1>>[*:1]c1ccccc1\n",
       "11    [*:1]Cc1ccc([*:2])o1>>[*:1]Cc1ccc([*:2])cc1"
      ]
     },
     "execution_count": 20,
     "metadata": {},
     "output_type": "execute_result"
    }
   ],
   "source": [
    "inf[[4]]"
   ]
  },
  {
   "cell_type": "code",
   "execution_count": 15,
   "metadata": {
    "collapsed": false
   },
   "outputs": [
    {
     "ename": "AttributeError",
     "evalue": "'NoneType' object has no attribute 'head'",
     "output_type": "error",
     "traceback": [
      "\u001b[0;31m---------------------------------------------------------------------------\u001b[0m",
      "\u001b[0;31mAttributeError\u001b[0m                            Traceback (most recent call last)",
      "\u001b[0;32m<ipython-input-15-875ef119ea8d>\u001b[0m in \u001b[0;36m<module>\u001b[0;34m()\u001b[0m\n\u001b[0;32m----> 1\u001b[0;31m \u001b[0ma\u001b[0m\u001b[0;34m.\u001b[0m\u001b[0mhead\u001b[0m\u001b[0;34m(\u001b[0m\u001b[0;34m)\u001b[0m\u001b[0;34m\u001b[0m\u001b[0m\n\u001b[0m",
      "\u001b[0;31mAttributeError\u001b[0m: 'NoneType' object has no attribute 'head'"
     ]
    }
   ],
   "source": [
    "a.head()"
   ]
  },
  {
   "cell_type": "code",
   "execution_count": null,
   "metadata": {
    "collapsed": true
   },
   "outputs": [],
   "source": []
  }
 ],
 "metadata": {
  "kernelspec": {
   "display_name": "Python 2",
   "language": "python",
   "name": "python2"
  },
  "language_info": {
   "codemirror_mode": {
    "name": "ipython",
    "version": 2
   },
   "file_extension": ".py",
   "mimetype": "text/x-python",
   "name": "python",
   "nbconvert_exporter": "python",
   "pygments_lexer": "ipython2",
   "version": "2.7.9"
  }
 },
 "nbformat": 4,
 "nbformat_minor": 0
}
