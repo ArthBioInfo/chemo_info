{
 "cells": [
  {
   "cell_type": "code",
   "execution_count": 1,
   "metadata": {
    "collapsed": true
   },
   "outputs": [],
   "source": [
    "import pandas as pd\n"
   ]
  },
  {
   "cell_type": "code",
   "execution_count": 2,
   "metadata": {
    "collapsed": false
   },
   "outputs": [],
   "source": [
    "df = pd.DataFrame({'a':[1,2,3,4,5], 'b':[3,2,1,2,3]})"
   ]
  },
  {
   "cell_type": "code",
   "execution_count": 3,
   "metadata": {
    "collapsed": false
   },
   "outputs": [
    {
     "data": {
      "text/html": [
       "<div>\n",
       "<table border=\"1\" class=\"dataframe\">\n",
       "  <thead>\n",
       "    <tr style=\"text-align: right;\">\n",
       "      <th></th>\n",
       "      <th>a</th>\n",
       "      <th>b</th>\n",
       "    </tr>\n",
       "  </thead>\n",
       "  <tbody>\n",
       "    <tr>\n",
       "      <th>0</th>\n",
       "      <td>1</td>\n",
       "      <td>3</td>\n",
       "    </tr>\n",
       "    <tr>\n",
       "      <th>1</th>\n",
       "      <td>2</td>\n",
       "      <td>2</td>\n",
       "    </tr>\n",
       "    <tr>\n",
       "      <th>2</th>\n",
       "      <td>3</td>\n",
       "      <td>1</td>\n",
       "    </tr>\n",
       "    <tr>\n",
       "      <th>3</th>\n",
       "      <td>4</td>\n",
       "      <td>2</td>\n",
       "    </tr>\n",
       "    <tr>\n",
       "      <th>4</th>\n",
       "      <td>5</td>\n",
       "      <td>3</td>\n",
       "    </tr>\n",
       "  </tbody>\n",
       "</table>\n",
       "</div>"
      ],
      "text/plain": [
       "   a  b\n",
       "0  1  3\n",
       "1  2  2\n",
       "2  3  1\n",
       "3  4  2\n",
       "4  5  3"
      ]
     },
     "execution_count": 3,
     "metadata": {},
     "output_type": "execute_result"
    }
   ],
   "source": [
    "df"
   ]
  },
  {
   "cell_type": "code",
   "execution_count": 4,
   "metadata": {
    "collapsed": false
   },
   "outputs": [
    {
     "data": {
      "text/html": [
       "<div>\n",
       "<table border=\"1\" class=\"dataframe\">\n",
       "  <thead>\n",
       "    <tr style=\"text-align: right;\">\n",
       "      <th></th>\n",
       "      <th>a</th>\n",
       "      <th>b</th>\n",
       "    </tr>\n",
       "  </thead>\n",
       "  <tbody>\n",
       "    <tr>\n",
       "      <th>0</th>\n",
       "      <td>1</td>\n",
       "      <td>3</td>\n",
       "    </tr>\n",
       "    <tr>\n",
       "      <th>1</th>\n",
       "      <td>2</td>\n",
       "      <td>2</td>\n",
       "    </tr>\n",
       "    <tr>\n",
       "      <th>2</th>\n",
       "      <td>3</td>\n",
       "      <td>1</td>\n",
       "    </tr>\n",
       "    <tr>\n",
       "      <th>3</th>\n",
       "      <td>4</td>\n",
       "      <td>2</td>\n",
       "    </tr>\n",
       "    <tr>\n",
       "      <th>4</th>\n",
       "      <td>5</td>\n",
       "      <td>3</td>\n",
       "    </tr>\n",
       "  </tbody>\n",
       "</table>\n",
       "</div>"
      ],
      "text/plain": [
       "   a  b\n",
       "0  1  3\n",
       "1  2  2\n",
       "2  3  1\n",
       "3  4  2\n",
       "4  5  3"
      ]
     },
     "execution_count": 4,
     "metadata": {},
     "output_type": "execute_result"
    }
   ],
   "source": [
    "df[[\"a\",'b']]"
   ]
  },
  {
   "cell_type": "code",
   "execution_count": 7,
   "metadata": {
    "collapsed": true
   },
   "outputs": [],
   "source": [
    "from rdkit import Chem\n",
    "from rdkit.Chem import PandasTools"
   ]
  },
  {
   "cell_type": "code",
   "execution_count": null,
   "metadata": {
    "collapsed": true
   },
   "outputs": [],
   "source": []
  },
  {
   "cell_type": "code",
   "execution_count": 8,
   "metadata": {
    "collapsed": false
   },
   "outputs": [],
   "source": [
    "df = PandasTools.LoadSDF(\"testset.sdf\")"
   ]
  },
  {
   "cell_type": "code",
   "execution_count": 9,
   "metadata": {
    "collapsed": false
   },
   "outputs": [
    {
     "data": {
      "text/html": [
       "<table border=\"1\" class=\"dataframe\">\n",
       "  <thead>\n",
       "    <tr style=\"text-align: right;\">\n",
       "      <th></th>\n",
       "      <th>ID</th>\n",
       "      <th>ROMol</th>\n",
       "      <th>logp</th>\n",
       "      <th>molid</th>\n",
       "      <th>molwt</th>\n",
       "      <th>pIC50</th>\n",
       "    </tr>\n",
       "  </thead>\n",
       "  <tbody>\n",
       "    <tr>\n",
       "      <th>0</th>\n",
       "      <td>4-GBLD_345</td>\n",
       "      <td><img src=\"data:image/png;base64,iVBORw0KGgoAAAANSUhEUgAAAMgAAADICAIAAAAiOjnJAAAFN0lEQVR4nO3c0XaqOACGUZg17//KzAUtQxExID8JuvdVV0+rCF9DCHr6YRg6ONs/tTeAzyQsIoRFhLCIEBYRwiJCWEQIiwhhESEsIoRFhLCIEBYRwiJCWEQIiwhhESEsIoRFhLCIEBYRwiJCWEQIiwhhESEsIoRFhLCIEBYRwiJCWEQIiwhhESEsIoRFhLCIEBYRwiJCWEQIiwhhESEsIoRFhLCIEBYRwiJCWEQIiwhhESEsIoRFhLCIEBYRwiJCWEQIiwhhESEsIoRFhLCIEBYRwiJCWEQIiwhhESEsIoRFhLCIEBYRwiJCWEQIiwhhESEsIoRFhLCIaC6svu/7vq+9FUfcd8sT+mEYam/D//r+Z3vmR6ipLXxp3PJ7bXNCQ2FNVT1+f/q6na19Ydzmu2xtQCthzat6Vlh3u/Gg77+2rSbmWIVVdTdKanSvrT1V/bDKq5qGK3Pk9v1b9+nLq7q36S8h/wIbmS3UDGtvVeNYVX2X7TafacVmXdMoPl1W191R1cJ6Z6y6a2EBi54m1XdRnbC+5QwY86yn+XmwblsNzbFKTDur+l9kLatTqAbHrTphzfuosgGXGoZzJ+/zwX7xndUfLmzrcSq4OjksXPqtPGJ9i8VRetuuS7+NthaVvNzG8hdxv7C++Ww4vd69r3q+r37HufFxFj+2TGexYlj+tNXCOiuLRpZt2jctLO+c1P58MS+sZNy634jVrS3V3PJG9YXKh7r5hPDJQxWNW7cMq3u4nJx/3WZk/XjuuYONtsbvtz5iHT4blt+o/qQTZXpCOX/s8evt72yrfxN6r1379zOSetO4xy6+0GklrP7X6Y/cwrshpkNbfUsuU3mO9bhSuj1DuuP6wmLifMeXcEATk/fFHa7F97sTDkmdA/m7/Phn449d9s9XoW7RZUP3Ch9PE4vIDu/Qd9a9D7/nZfHD8572JrIYxXftiu+6V/jj+ZLB7783sXDw2FPJ/bLHf10durbf3X/gFxtRafvu8yGW+e3Y1dsdB17E4zj992ZL1z35Q3r2iy+f6/oQK41Yd0jqpdVTZMnpcvW02BUtiw97LwVqDWytLDc0ruRGx84HHBbrILveqjC/rHm5hFFljeOcEavkjUG38zD73qrn2PXBsQu9wilX3YNyTljLE//sH055/OtNlTze1mjE42lx1Mgf+clzrDZHrO33Rm78/K5B6OXpcuNXD/7ayrusWjkEV03eL/xg3bPnL3zm9xfMdnnzjaXHllsvcElYl3ywblvJYsFiobz8YNU9pq0lNWrilk4VawuYPz1duerTZBUn+KLlhpLz1PtriW/MtD7Kd41YVx31n2Fvetr5BnyJq8b82pP3cmd9xKPNqc9lvv31r3o/i7+L3eNS03vbdDffdSq8xpN18K7rVpbHPvU//fuiyfs1no12w7CytPHBhLXi8Nvky8+hH3/xKKzTmLDPmWO9kLsH99mDlrDWXfPxoQ9uy+j91MZYdd7Hhz6WPfJa7uNDH8xOOaKRjw+1TFhEWG4gQlhECIsIYREhLCKERYSwiBAWEcIiQlhECIsIYREhLCKERYSwiBAWEcIiQlhECIsIYREhLCKERYSwiBAWEcIiQlhECIsIYREhLCKERYSwiBAWEcIiQlhECIsIYREhLCKERYSwiBAWEcIiQlhECIsIYREhLCKERYSwiBAWEcIiQlhECIsIYREhLCKERYSwiBAWEcIiQlhECIsIYREhLCKERYSwiBAWEcIiQlhECIsIYREhLCKERYSwiBAWEcIiQlhECIsIYRHxHwsmKRmLiMwhAAAAAElFTkSuQmCC\" alt=\"Mol\"/></td>\n",
       "      <td>3.61</td>\n",
       "      <td>275</td>\n",
       "      <td>375.43</td>\n",
       "      <td>9.00</td>\n",
       "    </tr>\n",
       "    <tr>\n",
       "      <th>1</th>\n",
       "      <td>Meclonazepam</td>\n",
       "      <td><img src=\"data:image/png;base64,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\" alt=\"Mol\"/></td>\n",
       "      <td>3.43</td>\n",
       "      <td>81</td>\n",
       "      <td>329.74</td>\n",
       "      <td>8.92</td>\n",
       "    </tr>\n",
       "    <tr>\n",
       "      <th>2</th>\n",
       "      <td>Ro05-4435</td>\n",
       "      <td><img src=\"data:image/png;base64,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\" alt=\"Mol\"/></td>\n",
       "      <td>2.52</td>\n",
       "      <td>19</td>\n",
       "      <td>299.26</td>\n",
       "      <td>8.82</td>\n",
       "    </tr>\n",
       "    <tr>\n",
       "      <th>3</th>\n",
       "      <td>4-GBLD_274</td>\n",
       "      <td><img src=\"data:image/png;base64,iVBORw0KGgoAAAANSUhEUgAAAMgAAADICAIAAAAiOjnJAAAFLUlEQVR4nO3cW3abSABFUeiVGbnnP4JkTOoPbJoAknhdqhB7f2Q5VmQhOC5KJZT28Xg0cLR/Sm8An0lYRAiLCGERISwihEWEsIgQFhHCIkJYRAiLCGERISwihEWEsIgQFhHCIkJYRAiLCGERISwihEWEsIgQFhHCIkJYRAiLCGERISwihEWEsIgQFhHCIkJYRAiLCGERISwihEWEsIgQFhHCIkJYRAiLCGERISwihEWEsIgQFhHCIkJYRAiLCGERISwihEWEsIgQFhHCIkJYRAiLCGERISwihEWEsIgQFhHCIkJYRAiLCGERISwihEWEsIgQFhHCIkJYRAiLCGERUV1Ybdu2bVt6K7a47pYntI/Ho/Q2/K9tv7dneISq2sK3ui2/1jYnVBRWX9X0+/3X9WztG902X2VrA2oJa1jVs8Kay40HbXvbtqqYYy2sqrlQUp1rbe2hyoe1vKp+uDJHrt+vsg+/vKpr638T8k+wktlCybDWVtWNVcV32WrDmVZs1tWP4v3L6rI7qlhYe8aqqxYWMOqpV3wXlQnrLmfAmGc9Dc+DZduqaI61RL+ziv9GljI7hapw3CoT1rCPIhtwqsfj2Mn7cLAffWf2H69q698/f7ovfn997djG0iPWXXRtHfdbtOql34u2ZjPamVTnemHd+WzYP9+1z3q4r7oov37/bp401NV21RHrqCwqWbapX7+w/HZf3XTEauaWai75RvWJNg91m10yrGbycnL4dZ2RtU1Ty6acovAcZdvZcPm96jlR7j/v7/kJ3X3PnJKWfxN6rVV7p4akiju/qqaesNofh//kGq6G6A9t8S05TeE51nSl9PUM6YrrC6OJ8xWfwgZVTN5H73CNvt8ccEjKHMif65P/2vjlL/v//lHttbqs6L3C6WliFNnmHbpn3XvzNS+jfzzsaW0io1F81a6413uF354vGfzcXsXCwbSnJR+VmN46O3S9vrp/wx0rUWj7rvMhlq6q4Z/Dm5pNT2I6Tg/fbOnMHpdnd3z7WOeHWGjEukJSb82eIpecLmdPi82CSoaJLDyflhrYalluqNzwypdZa5cR+jfRh99ZeMfhssWSxZQiaxzHjFhLLgy6nMns+1U9214fbHuht3DKVfagHBPW+MQ/uOGQn3++vpJRW/WYnhY7lfySHzzHqnPEms6BXo8u/a2rBqG3p8sXd914t8lVVk01h+CsyfuJH6x79vgLH3n/gtkqOy8s3bbceoJTwjrlg3WvLVksGC2ULz9YZY9pbUl1qnhLp4i5Bczvns5c9amyigPcaLlhyXlq/1rijpnWR7nXiHXWUf8e9vqHHW7ATZw15peevC931Ec86pz6nObuz3/WIZcRD/7WLTXt26arudep8BxP1sGbpplZHvvU//TvRpP3czwb7R6PmaWNDyasGZsvk19+Dv34F4/COowJ+5A51hu59+A+e9AS1rxzPj70wW0ZvZ96MVYd9/Ghj2WPvJf7+NAHs1O2qOTjQzUTFhGWG4gQFhHCIkJYRAiLCGERISwihEWEsIgQFhHCIkJYRAiLCGERISwihEWEsIgQFhHCIkJYRAiLCGERISwihEWEsIgQFhHCIkJYRAiLCGERISwihEWEsIgQFhHCIkJYRAiLCGERISwihEWEsIgQFhHCIkJYRAiLCGERISwihEWEsIgQFhHCIkJYRAiLCGERISwihEWEsIgQFhHCIkJYRAiLCGERISwihEWEsIgQFhHCIkJYRAiLCGERISwihEWEsIgQFhHCIkJYRPwHsFcOh/wr9rUAAAAASUVORK5CYII=\" alt=\"Mol\"/></td>\n",
       "      <td>4.16</td>\n",
       "      <td>268</td>\n",
       "      <td>378.41</td>\n",
       "      <td>8.82</td>\n",
       "    </tr>\n",
       "    <tr>\n",
       "      <th>4</th>\n",
       "      <td>Ro07-3953</td>\n",
       "      <td><img src=\"data:image/png;base64,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\" alt=\"Mol\"/></td>\n",
       "      <td>3.41</td>\n",
       "      <td>8</td>\n",
       "      <td>306.70</td>\n",
       "      <td>8.80</td>\n",
       "    </tr>\n",
       "    <tr>\n",
       "      <th>5</th>\n",
       "      <td>Delorazepam</td>\n",
       "      <td><img src=\"data:image/png;base64,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\" alt=\"Mol\"/></td>\n",
       "      <td>3.78</td>\n",
       "      <td>10</td>\n",
       "      <td>305.16</td>\n",
       "      <td>8.74</td>\n",
       "    </tr>\n",
       "    <tr>\n",
       "      <th>6</th>\n",
       "      <td>Clonazepam</td>\n",
       "      <td><img src=\"data:image/png;base64,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\" alt=\"Mol\"/></td>\n",
       "      <td>3.04</td>\n",
       "      <td>21</td>\n",
       "      <td>315.72</td>\n",
       "      <td>8.74</td>\n",
       "    </tr>\n",
       "    <tr>\n",
       "      <th>7</th>\n",
       "      <td>4-GBLD_313</td>\n",
       "      <td><img src=\"data:image/png;base64,iVBORw0KGgoAAAANSUhEUgAAAMgAAADICAIAAAAiOjnJAAAFVUlEQVR4nO3c4XKjKgBAYdnp+78y+8OpNZooAkfAnG927mR6mw4hp0iMaYgxTlJt/1oPQM9kWEIYlhCGJYRhCWFYQhiWEIYlhGEJYVhCGJYQhiWEYQlhWEIYlhCGJYRhCWFYQhiWEIYlhGEJYVhCGJYQhiWEYQlhWEIYlhCGJYRhCWFYQhiWEIYlhGEJYVhCGJYQhiWEYQlhWEIYlhCGJYRhCWFYQhiWEIYlhGEJYVhCGJYQhiWEYQlhWEIYlhCGJYRhCWFYQhiWEIYlhGEJYVhCGJYQhiWEYQlhWEIYlhCGJYRhCWFYQhiWEIYlhGEJYVhCGJYQhiWEYQlhWEIYlhCGVVkIofUQumBYlcUYQwjmFWKMrcfwTCGEOE3Tt05vX2Gtf9G7Gli++RE947Fc8dN6AH9CeKl8fzQZMrURx1xDLyvWUtUmr833LLc7GXbP5ulqNVFdrFgpVU2rORp4a7yMHHu+l8lJmVJO+xUrsaqMb+5OCH89rW/X+dkvPU2rFavJ0tXFiqVs+56m3UGwya9i47CurkDz7994axVgvw69jWxx89S1DKvkuGZh07uj3un33zZpzcIae7eUJ8bqm/er+6fbtlxt3tIpiWmZmiHNj7rekxpjzFjsb5jDxu8Vfm9hZcqXeXr22oTV6jWwprvOAg55dcM3r1WjGDKsxYiFdTJc+jVTs7AKm9icv/ESqETPP91QxTMviHiEgcPa//LtMzo+GX2zWm/eDXHmr+Ueq+RomP4WUCfPwTzgeTC1ziTRs1diyM371XlpvscP4c01P3lXx28uSrt09295r3Ctq2NWXZsLZNaHwkvXCy13X9+l2/dM24/peAP+dtuUMebalz9VsH4gnx7Uwe/beqOWOCd3vj/bRVjL7dPdd8mMFLa1v0qv/HMSm7am1cOcv0hc+XjPCtc4rEvnCwpnpDys6TejTWRTQV6bV4gZLxivXoJ79efnab1inT3b/XyAYlmllv9++p797YQfXnSQOr37fuGf4PlsunlPmPvmR+qr8tbFwpNb67u/PQi8PeGH7jvbhdXhdjrB+lq9g28oaSt3YC8rVsouLXuoKdqFNUhV+6k/batA6ZxcXfm4tno5j9Wn9aS/nos6uhdZ3rnrF5Qiw6hz5n2I6wvWo5tvH493/9Iv3SDLMajOirV9tfz71So/vKKLy36YH0r6vfp7xM1UPhS+rMP9/aGV/ZZiP8bfxSnc8NJpP7zHIN+EjvHlWDL/68x6jPuvhBCyn+y2O60Mx1uF5Xbi03jL5p38mwVXJT7fld7cDdO0Ponw99P6XJxOn5z0Z+8bXxXevJYMdI7301Zh/Q2JhrweK8/+fAH9jDe/DqzcvDHYTFQ3h8Ix1brU6e2hcPrwfnbz1e10OU8c5C1hxfp/s2AIyZdJ9TUrB20tm/rTAd+1YnU1c7dIX+3Q9+zSHW8Vrm4evmiPlSF7k9Tn5cJ3Mqz6sv7c12AnvU65eU9Ff9zjYW19+4qd4uD66Vqf9XgeZ+Hc6Udllv9lVQsn4gL0sx4P41wU6eezHr0xLCE83SCEYQlhWEIYlhCGJYRhCWFYQhiWEIYlhGEJYVhCGJYQhiWEYQlhWEIYlhCGJYRhCWFYQhiWEIYlhGEJYVhCGJYQhiWEYQlhWEIYlhCGJYRhCWFYQhiWEIYlhGEJYVhCGJYQhiWEYQlhWEIYlhCGJYRhCWFYQhiWEIYlhGEJYVhCGJYQhiWEYQlhWEIYlhCGJYRhCWFYQhiWEIYlhGEJYVhCGJYQhiWEYQlhWEIYlhCGJYRhCWFYQhiWEIYlhGEJYVhCGJYQhiWEYQlhWEL8By9Z9D5tDum8AAAAAElFTkSuQmCC\" alt=\"Mol\"/></td>\n",
       "      <td>3.61</td>\n",
       "      <td>274</td>\n",
       "      <td>375.43</td>\n",
       "      <td>8.74</td>\n",
       "    </tr>\n",
       "    <tr>\n",
       "      <th>8</th>\n",
       "      <td>Ro05-3367</td>\n",
       "      <td><img src=\"data:image/png;base64,iVBORw0KGgoAAAANSUhEUgAAAMgAAADICAIAAAAiOjnJAAAGRElEQVR4nO3dXXKjOhCGYWlqduTsfwXxmpgLTYgL82ehr9Vq3udq6lQdB8PrRsYOydM0JaC1P703ADERFiQICxKEBQnCggRhQYKwIEFYkCAsSBAWJAgLEoQFCcKCBGFBgrAgQViQICxIEBYkCAsShAUJwoIEYUGCsCBBWJAgLEgQFiQICxKEBQnCggRhQYKwIEFYkCAsSBAWJAgLEoQFCcKCBGFBgrAgQViQICxIEBYkCAsShAWJv703AL9yzuUfAf5yFmH1NJdUzD3lnEdva/gnMJafkI4n0+htmW794gW6ZegdurB4xh89s7K7Bt0bdmGdfwkG6G9+Bte3cdDR5XGNdb4/J3s859+Ayr8bbtc0TX6e6XlGlxtG3DUfOTdkK5W22j9uzsvtLv+lxc8a+DqWandXmaah2ir1LEbr/F9aPBmLsN7HVfU+8lOSvdLW1T2wmpSAPKzVqqpPi4sX7q2GVkppmqb6p2yVVDHwqdAhm2XkR23ledm0lVSjRdXyUaVr6rbjautBOr4zeH0/aP6jD5718WWw0tNimVVcflbCyw2iqlDsXIaoSernQVttnsfrWIcW+7TXlZ6O46qYz4mvHzKmuqRaU4XFuLJRdunh1yJyzvOr0GbDRr1A2v3t4fu46vj2tOzbrdPi/51v9X6wkITVZTj1vfTg57Q4m5PqcqJofyo0Owl2/BCte0b7PHwtYuzrWN1PiIWfzvpOqVeNJ9Yd1uyLjPxUlXpPqVctJ1aXqnoMLS8fInk29qnQ3ttFf0fjypVmYXU8CXZdaTG91qkmVrylVfL0GaV/bcLqvoudvD3ErE1YiwPZvTOFEcaVo+2RfFbYZY+vfjJ98n9UbtdNNQvLwy+T1E2Uiv66P1P/hvzaTFtnEtn6XXhsafmu0M+SWf1lChziAikkGofl4ZUt/TJF84eNKtrEYlntRPuwAr+yAz+15kJNLMaVH5KwuryyqcrVsw81sQxwNjxJFZbxAWBcecPE+hhD6wxhWGYHgHHl0PAT64a/wzgEbVgcgNvq8O2Gi6k5+fqKh68JFe+31vXwKx7ysN4PQKuD4eS4euChpIXh11hIa3ep1Nym7wMWYSlWWh7GVfcV5M4Pt721zAq+QTqk99unGdxa9yNGYTV/cXcfV4X9En7njnyu2up/Qqnj4VRYWG6Jw0X6FhbvV9mstOY7ao9i1LC6L5wXpBtjeN//Zli8XzWfChe/49/qwRs+miUvK5U63Vda+3daL6q3sPuzu4KJVW/nwC8+d1r979UPPoSxtz71OwB1P/dMZOOe/l4NP7Ee39/2P3S1qjOpHU6y0QfVLMLT+Ho+vx8Psx9XXdX+Y5Z/BDgcxaiXG3pRVJV+/hDhlUfwJkJY34/H1/Np8INEVc28XZy7IkJYNtRVBRMkLPXQ0lUVZkQtBAlLillVIU5YoqFlvK4Ks8yKE5YCs6oa+2iTWVUj3Oj7Y0ysdZazKuTZkLBWcAa8jrCWqKoJwjoW9K8uahHWAWZVneG/NrNqvqBV8a2H97/J03LLbiNmWKkqKTQU9lT49XzafOWhlWDLLCYWJMJOrCtGnxYeEJYjkc6GvJde5+SXf8a92MHEggRhret1Ghr69PeKsFwbtzPCcmfQRdUCYbnG4j2g7qehcatKhOXW0FUlwvJp9KoSYTkUoKpEWPvsl1kxqkqE9amcsy61MFWlwF+bEZHexzZMVYmw6ly/xehCsKoS32444/xRv+d9bFcxsVqqmGQhq0pMrDOu3yB060bIUatKhHXo9di3XbMHrioR1r6dY38xsthVJcLa8tFd/D+NLHxVibBWXTnwh5HdoarEu8J3+XnpwO+/MbxJVYmJtZCfeXpIdkiMv5BzHmH90lV1Q3wI/R9VtUVYkCCslBhXAoRFVRIs3iHBxIIEYUGCsCBBWJC4b1j5OeRdXEZxow+h55K4uGDgLmG9XqziwpWBO54KqcrAHcOCgTuGxbLdwF3WWNNjYvFuic8KIXHHUyEMEBYkCAsShAUJwoIEYUGCsCBBWJAgLEgQFiQICxKEBQnCggRhQYKwIEFYkCAsSBAWJAgLEoQFCcKCBGFBgrAgQViQICxIEBYkCAsShAUJwoIEYUGCsCBBWJAgLEgQFiQICxKEBQnCggRhQeIf2pLo9XxatXkAAAAASUVORK5CYII=\" alt=\"Mol\"/></td>\n",
       "      <td>3.27</td>\n",
       "      <td>7</td>\n",
       "      <td>288.71</td>\n",
       "      <td>8.70</td>\n",
       "    </tr>\n",
       "    <tr>\n",
       "      <th>9</th>\n",
       "      <td>4-GBLD_254</td>\n",
       "      <td><img src=\"data:image/png;base64,iVBORw0KGgoAAAANSUhEUgAAAMgAAADICAIAAAAiOjnJAAAFVElEQVR4nO3cW3KcOgAAUUhl/1smH8RYBgbr1UiCPnW/cscewD1CyOB5WZZJqu1P6w3QMxmWEIYlhGEJYVhCGJYQhiWEYQlhWEIYlhCGJYRhCWFYQhiWEIYlhGEJYVhCGJYQhiWEYQlhWEIYlhCGJYRhCWFYQhiWEIYlhGEJYVhCGJYQhiWEYQlhWEIYlhCGJYRhCWFYQhiWEIYlhGEJYVhCGJYQhiWEYQlhWEIYlhCGJYRhCWFYQhiWEIYlhGEJYVhCGJYQhiWEYQlhWEIYlhCGJYRhCWFYQhiWEIYlhGEJYVhCGJYQhiWEYQlhWEIYlhCGJYRhCWFYQhiWEIbFmue59Sa0MS/L0nob9rYfRofblmHdnWfsS7zuwprn700KP+69bWeqcL/eoK+9vTj6T4hs3YVBNz5RR2HtxqqLDRv7XDnPb2irl8l7fFXTNC3LMmRSq3G3PEUXYSVVNQXT4eGvueb5/3/3veF8z0H7e8N7xHvXDDc8J8Lnx93k4Ybj3D6sbSfj93Ydq16UYK5Pk9FtsOeOYeOwCvuwsFMXFzdbT/TQ1TKs1KmVfvVpHLoeuogj3ywsq5qW5XvaXm/3U5eXobY6mmMlechJcG2r9l6kzp+IKVez5YZaO/OERYdKtk9axjrf+iUVj2QX61jqRMW2WoZVuBuOVRVVP5JPGLEsrEPtJ+8lwpnEoL+ZnqepyuZWuZSpeD3UOKwqF3e773AcvcZKrZHHLTcUOnZ5sTx4+n8VrHhUOzhjhxU52p2uGTa3u0fjYcV3sca49pF6fPPOoZ0sqx43o2TDau1UxcXajq4KtzW6zcWLO+kjzzyfDKJVrm0Lv0PFI9rLj+c0lE9zo7IPd+NbOI8bEA7VGafF3Zd08pHrYiOmiMWCcEZSss1tw7p497zbaKeze/d6aKv9FkyfH/la1Rqrgm9S2tbx3s8qD+DExBFzr9XFl9+mg7B++zlXXyyoEtb0ldEuslX29/90Woxf/g3vyI15PaR1WM2nPFm2UeritpeSO9qPQ3jqrCv+tAjded/0qnDMquJlX6LtrhAz7oFJutgkVveahjV4VeEdoHkvuPzaoqnStnAznbW1e+qsZDs/GXvl/WbHEZb4kdQSphm0td4JiL97nbAGvbMgSVhVuJfXe1xcXunxjPyVRvVPSJ2w9jPNr3+t8s2rO10suN7Y7QUZ08Lmo1rkp73udlY+Ff7Yh47/uEpSH7mPe6R+xfF97zh48aNvEnKOdfjNxfm/t3AcpY6fgq/tDZeFMk/1MYPiw9w1eb/x7xTkOW7Rdu6bGi1k93eQEnR0d8PNIqcUtR5gXJa+7gajvXq54f5p9c+2vmMdenA69cawjtPVe36uD3l6O86N+9nT5D1VvVs0z0esacijcuXGEethRy5d3F1WnV/kxHrv5P1m8WPeM6b4hnWHpDNp85X6KgwrSsmTDu+ZsIcMK9mvTxDtXpz366DRB603LjcUSr1XOPddxm7rjaN0tqRn1D69/iXeu+cZfr1duKvnZNp69c6XuOExtaG9ff8r8m/ahAxLCJcbhDAsIQxLCMMSwrCEMCwhDEsIwxLCsIQwLCEMSwjDEsKwhDAsIQxLCMMSwrCEMCwhDEsIwxLCsIQwLCEMSwjDEsKwhDAsIQxLCMMSwrCEMCwhDEsIwxLCsIQwLCEMSwjDEsKwhDAsIQxLCMMSwrCEMCwhDEsIwxLCsIQwLCEMSwjDEsKwhDAsIQxLCMMSwrCEMCwhDEsIwxLCsIQwLCEMSwjDEsKwhDAsIQxLCMMSwrCEMCwhDEsIwxLCsIQwLCEMSwjDEsKwhDAsIf4BDszfSSt4IkIAAAAASUVORK5CYII=\" alt=\"Mol\"/></td>\n",
       "      <td>3.42</td>\n",
       "      <td>265</td>\n",
       "      <td>361.41</td>\n",
       "      <td>8.68</td>\n",
       "    </tr>\n",
       "  </tbody>\n",
       "</table>"
      ],
      "text/plain": [
       "             ID                                                                                                                                                                                                                                                                                                                                                                                                                                                                                                                                                                                                                                                                                                                                                                                                                                                                                                                                                                                                                                                                                                                                                                                                                                                                                                                                                                                                                                                                                                                                                                                                                                                                                                                                                                                                                                                                                                                                                                                                                                                                                                                                                                                                                                                                                                                                                                                                                                                                                                                                                  ROMol  logp molid   molwt pIC50\n",
       "0    4-GBLD_345                                                                                                                                                                                                                                                                                                                                                                                                                                                                                                                                                                          <img src=\"data:image/png;base64,iVBORw0KGgoAAAANSUhEUgAAAMgAAADICAIAAAAiOjnJAAAFN0lEQVR4nO3c0XaqOACGUZg17//KzAUtQxExID8JuvdVV0+rCF9DCHr6YRg6ONs/tTeAzyQsIoRFhLCIEBYRwiJCWEQIiwhhESEsIoRFhLCIEBYRwiJCWEQIiwhhESEsIoRFhLCIEBYRwiJCWEQIiwhhESEsIoRFhLCIEBYRwiJCWEQIiwhhESEsIoRFhLCIEBYRwiJCWEQIiwhhESEsIoRFhLCIEBYRwiJCWEQIiwhhESEsIoRFhLCIEBYRwiJCWEQIiwhhESEsIoRFhLCIEBYRwiJCWEQIiwhhESEsIoRFhLCIEBYRwiJCWEQIiwhhESEsIoRFhLCIaC6svu/7vq+9FUfcd8sT+mEYam/D//r+Z3vmR6ipLXxp3PJ7bXNCQ2FNVT1+f/q6na19Ydzmu2xtQCthzat6Vlh3u/Gg77+2rSbmWIVVdTdKanSvrT1V/bDKq5qGK3Pk9v1b9+nLq7q36S8h/wIbmS3UDGtvVeNYVX2X7TafacVmXdMoPl1W191R1cJ6Z6y6a2EBi54m1XdRnbC+5QwY86yn+XmwblsNzbFKTDur+l9kLatTqAbHrTphzfuosgGXGoZzJ+/zwX7xndUfLmzrcSq4OjksXPqtPGJ9i8VRetuuS7+NthaVvNzG8hdxv7C++Ww4vd69r3q+r37HufFxFj+2TGexYlj+tNXCOiuLRpZt2jctLO+c1P58MS+sZNy634jVrS3V3PJG9YXKh7r5hPDJQxWNW7cMq3u4nJx/3WZk/XjuuYONtsbvtz5iHT4blt+o/qQTZXpCOX/s8evt72yrfxN6r1379zOSetO4xy6+0GklrP7X6Y/cwrshpkNbfUsuU3mO9bhSuj1DuuP6wmLifMeXcEATk/fFHa7F97sTDkmdA/m7/Phn449d9s9XoW7RZUP3Ch9PE4vIDu/Qd9a9D7/nZfHD8572JrIYxXftiu+6V/jj+ZLB7783sXDw2FPJ/bLHf10durbf3X/gFxtRafvu8yGW+e3Y1dsdB17E4zj992ZL1z35Q3r2iy+f6/oQK41Yd0jqpdVTZMnpcvW02BUtiw97LwVqDWytLDc0ruRGx84HHBbrILveqjC/rHm5hFFljeOcEavkjUG38zD73qrn2PXBsQu9wilX3YNyTljLE//sH055/OtNlTze1mjE42lx1Mgf+clzrDZHrO33Rm78/K5B6OXpcuNXD/7ayrusWjkEV03eL/xg3bPnL3zm9xfMdnnzjaXHllsvcElYl3ywblvJYsFiobz8YNU9pq0lNWrilk4VawuYPz1duerTZBUn+KLlhpLz1PtriW/MtD7Kd41YVx31n2Fvetr5BnyJq8b82pP3cmd9xKPNqc9lvv31r3o/i7+L3eNS03vbdDffdSq8xpN18K7rVpbHPvU//fuiyfs1no12w7CytPHBhLXi8Nvky8+hH3/xKKzTmLDPmWO9kLsH99mDlrDWXfPxoQ9uy+j91MZYdd7Hhz6WPfJa7uNDH8xOOaKRjw+1TFhEWG4gQlhECIsIYREhLCKERYSwiBAWEcIiQlhECIsIYREhLCKERYSwiBAWEcIiQlhECIsIYREhLCKERYSwiBAWEcIiQlhECIsIYREhLCKERYSwiBAWEcIiQlhECIsIYREhLCKERYSwiBAWEcIiQlhECIsIYREhLCKERYSwiBAWEcIiQlhECIsIYREhLCKERYSwiBAWEcIiQlhECIsIYREhLCKERYSwiBAWEcIiQlhECIsIYREhLCKERYSwiBAWEcIiQlhECIsIYRHxHwsmKRmLiMwhAAAAAElFTkSuQmCC\" alt=\"Mol\"/>  3.61   275  375.43  9.00\n",
       "1  Meclonazepam  <img src=\"data:image/png;base64,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\" alt=\"Mol\"/>  3.43    81  329.74  8.92\n",
       "2     Ro05-4435                                                                                          <img src=\"data:image/png;base64,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\" alt=\"Mol\"/>  2.52    19  299.26  8.82\n",
       "3    4-GBLD_274                                                                                                                                                                                                                                                                                                                                                                                                                                                                                                                                                                                      <img src=\"data:image/png;base64,iVBORw0KGgoAAAANSUhEUgAAAMgAAADICAIAAAAiOjnJAAAFLUlEQVR4nO3cW3abSABFUeiVGbnnP4JkTOoPbJoAknhdqhB7f2Q5VmQhOC5KJZT28Xg0cLR/Sm8An0lYRAiLCGERISwihEWEsIgQFhHCIkJYRAiLCGERISwihEWEsIgQFhHCIkJYRAiLCGERISwihEWEsIgQFhHCIkJYRAiLCGERISwihEWEsIgQFhHCIkJYRAiLCGERISwihEWEsIgQFhHCIkJYRAiLCGERISwihEWEsIgQFhHCIkJYRAiLCGERISwihEWEsIgQFhHCIkJYRAiLCGERISwihEWEsIgQFhHCIkJYRAiLCGERISwihEWEsIgQFhHCIkJYRAiLCGERUV1Ybdu2bVt6K7a47pYntI/Ho/Q2/K9tv7dneISq2sK3ui2/1jYnVBRWX9X0+/3X9WztG902X2VrA2oJa1jVs8Kay40HbXvbtqqYYy2sqrlQUp1rbe2hyoe1vKp+uDJHrt+vsg+/vKpr638T8k+wktlCybDWVtWNVcV32WrDmVZs1tWP4v3L6rI7qlhYe8aqqxYWMOqpV3wXlQnrLmfAmGc9Dc+DZduqaI61RL+ziv9GljI7hapw3CoT1rCPIhtwqsfj2Mn7cLAffWf2H69q698/f7ovfn997djG0iPWXXRtHfdbtOql34u2ZjPamVTnemHd+WzYP9+1z3q4r7oov37/bp401NV21RHrqCwqWbapX7+w/HZf3XTEauaWai75RvWJNg91m10yrGbycnL4dZ2RtU1Ty6acovAcZdvZcPm96jlR7j/v7/kJ3X3PnJKWfxN6rVV7p4akiju/qqaesNofh//kGq6G6A9t8S05TeE51nSl9PUM6YrrC6OJ8xWfwgZVTN5H73CNvt8ccEjKHMif65P/2vjlL/v//lHttbqs6L3C6WliFNnmHbpn3XvzNS+jfzzsaW0io1F81a6413uF354vGfzcXsXCwbSnJR+VmN46O3S9vrp/wx0rUWj7rvMhlq6q4Z/Dm5pNT2I6Tg/fbOnMHpdnd3z7WOeHWGjEukJSb82eIpecLmdPi82CSoaJLDyflhrYalluqNzwypdZa5cR+jfRh99ZeMfhssWSxZQiaxzHjFhLLgy6nMns+1U9214fbHuht3DKVfagHBPW+MQ/uOGQn3++vpJRW/WYnhY7lfySHzzHqnPEms6BXo8u/a2rBqG3p8sXd914t8lVVk01h+CsyfuJH6x79vgLH3n/gtkqOy8s3bbceoJTwjrlg3WvLVksGC2ULz9YZY9pbUl1qnhLp4i5Bczvns5c9amyigPcaLlhyXlq/1rijpnWR7nXiHXWUf8e9vqHHW7ATZw15peevC931Ec86pz6nObuz3/WIZcRD/7WLTXt26arudep8BxP1sGbpplZHvvU//TvRpP3czwb7R6PmaWNDyasGZsvk19+Dv34F4/COowJ+5A51hu59+A+e9AS1rxzPj70wW0ZvZ96MVYd9/Ghj2WPvJf7+NAHs1O2qOTjQzUTFhGWG4gQFhHCIkJYRAiLCGERISwihEWEsIgQFhHCIkJYRAiLCGERISwihEWEsIgQFhHCIkJYRAiLCGERISwihEWEsIgQFhHCIkJYRAiLCGERISwihEWEsIgQFhHCIkJYRAiLCGERISwihEWEsIgQFhHCIkJYRAiLCGERISwihEWEsIgQFhHCIkJYRAiLCGERISwihEWEsIgQFhHCIkJYRAiLCGERISwihEWEsIgQFhHCIkJYRAiLCGERISwihEWEsIgQFhHCIkJYRPwHsFcOh/wr9rUAAAAASUVORK5CYII=\" alt=\"Mol\"/>  4.16   268  378.41  8.82\n",
       "4     Ro07-3953                                                      <img src=\"data:image/png;base64,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\" alt=\"Mol\"/>  3.41     8  306.70  8.80\n",
       "5   Delorazepam                                                                                                                                                                                                      <img src=\"data:image/png;base64,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\" alt=\"Mol\"/>  3.78    10  305.16  8.74\n",
       "6    Clonazepam                                                                  <img src=\"data:image/png;base64,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\" alt=\"Mol\"/>  3.04    21  315.72  8.74\n",
       "7    4-GBLD_313                                                                                                                                                                                                                                                                                                                                                                                                                                                                                                                                  <img src=\"data:image/png;base64,iVBORw0KGgoAAAANSUhEUgAAAMgAAADICAIAAAAiOjnJAAAFVUlEQVR4nO3c4XKjKgBAYdnp+78y+8OpNZooAkfAnG927mR6mw4hp0iMaYgxTlJt/1oPQM9kWEIYlhCGJYRhCWFYQhiWEIYlhGEJYVhCGJYQhiWEYQlhWEIYlhCGJYRhCWFYQhiWEIYlhGEJYVhCGJYQhiWEYQlhWEIYlhCGJYRhCWFYQhiWEIYlhGEJYVhCGJYQhiWEYQlhWEIYlhCGJYRhCWFYQhiWEIYlhGEJYVhCGJYQhiWEYQlhWEIYlhCGJYRhCWFYQhiWEIYlhGEJYVhCGJYQhiWEYQlhWEIYlhCGJYRhCWFYQhiWEIYlhGEJYVhCGJYQhiWEYQlhWEIYlhCGVVkIofUQumBYlcUYQwjmFWKMrcfwTCGEOE3Tt05vX2Gtf9G7Gli++RE947Fc8dN6AH9CeKl8fzQZMrURx1xDLyvWUtUmr833LLc7GXbP5ulqNVFdrFgpVU2rORp4a7yMHHu+l8lJmVJO+xUrsaqMb+5OCH89rW/X+dkvPU2rFavJ0tXFiqVs+56m3UGwya9i47CurkDz7994axVgvw69jWxx89S1DKvkuGZh07uj3un33zZpzcIae7eUJ8bqm/er+6fbtlxt3tIpiWmZmiHNj7rekxpjzFjsb5jDxu8Vfm9hZcqXeXr22oTV6jWwprvOAg55dcM3r1WjGDKsxYiFdTJc+jVTs7AKm9icv/ESqETPP91QxTMviHiEgcPa//LtMzo+GX2zWm/eDXHmr+Ueq+RomP4WUCfPwTzgeTC1ziTRs1diyM371XlpvscP4c01P3lXx28uSrt09295r3Ctq2NWXZsLZNaHwkvXCy13X9+l2/dM24/peAP+dtuUMebalz9VsH4gnx7Uwe/beqOWOCd3vj/bRVjL7dPdd8mMFLa1v0qv/HMSm7am1cOcv0hc+XjPCtc4rEvnCwpnpDys6TejTWRTQV6bV4gZLxivXoJ79efnab1inT3b/XyAYlmllv9++p797YQfXnSQOr37fuGf4PlsunlPmPvmR+qr8tbFwpNb67u/PQi8PeGH7jvbhdXhdjrB+lq9g28oaSt3YC8rVsouLXuoKdqFNUhV+6k/batA6ZxcXfm4tno5j9Wn9aS/nos6uhdZ3rnrF5Qiw6hz5n2I6wvWo5tvH493/9Iv3SDLMajOirV9tfz71So/vKKLy36YH0r6vfp7xM1UPhS+rMP9/aGV/ZZiP8bfxSnc8NJpP7zHIN+EjvHlWDL/68x6jPuvhBCyn+y2O60Mx1uF5Xbi03jL5p38mwVXJT7fld7cDdO0Ponw99P6XJxOn5z0Z+8bXxXevJYMdI7301Zh/Q2JhrweK8/+fAH9jDe/DqzcvDHYTFQ3h8Ix1brU6e2hcPrwfnbz1e10OU8c5C1hxfp/s2AIyZdJ9TUrB20tm/rTAd+1YnU1c7dIX+3Q9+zSHW8Vrm4evmiPlSF7k9Tn5cJ3Mqz6sv7c12AnvU65eU9Ff9zjYW19+4qd4uD66Vqf9XgeZ+Hc6Udllv9lVQsn4gL0sx4P41wU6eezHr0xLCE83SCEYQlhWEIYlhCGJYRhCWFYQhiWEIYlhGEJYVhCGJYQhiWEYQlhWEIYlhCGJYRhCWFYQhiWEIYlhGEJYVhCGJYQhiWEYQlhWEIYlhCGJYRhCWFYQhiWEIYlhGEJYVhCGJYQhiWEYQlhWEIYlhCGJYRhCWFYQhiWEIYlhGEJYVhCGJYQhiWEYQlhWEIYlhCGJYRhCWFYQhiWEIYlhGEJYVhCGJYQhiWEYQlhWEIYlhCGJYRhCWFYQhiWEIYlhGEJYVhCGJYQhiWEYQlhWEL8By9Z9D5tDum8AAAAAElFTkSuQmCC\" alt=\"Mol\"/>  3.61   274  375.43  8.74\n",
       "8     Ro05-3367                                                                                                                                                                                                  <img src=\"data:image/png;base64,iVBORw0KGgoAAAANSUhEUgAAAMgAAADICAIAAAAiOjnJAAAGRElEQVR4nO3dXXKjOhCGYWlqduTsfwXxmpgLTYgL82ehr9Vq3udq6lQdB8PrRsYOydM0JaC1P703ADERFiQICxKEBQnCggRhQYKwIEFYkCAsSBAWJAgLEoQFCcKCBGFBgrAgQViQICxIEBYkCAsShAUJwoIEYUGCsCBBWJAgLEgQFiQICxKEBQnCggRhQYKwIEFYkCAsSBAWJAgLEoQFCcKCBGFBgrAgQViQICxIEBYkCAsShAWJv703AL9yzuUfAf5yFmH1NJdUzD3lnEdva/gnMJafkI4n0+htmW794gW6ZegdurB4xh89s7K7Bt0bdmGdfwkG6G9+Bte3cdDR5XGNdb4/J3s859+Ayr8bbtc0TX6e6XlGlxtG3DUfOTdkK5W22j9uzsvtLv+lxc8a+DqWandXmaah2ir1LEbr/F9aPBmLsN7HVfU+8lOSvdLW1T2wmpSAPKzVqqpPi4sX7q2GVkppmqb6p2yVVDHwqdAhm2XkR23ledm0lVSjRdXyUaVr6rbjautBOr4zeH0/aP6jD5718WWw0tNimVVcflbCyw2iqlDsXIaoSernQVttnsfrWIcW+7TXlZ6O46qYz4mvHzKmuqRaU4XFuLJRdunh1yJyzvOr0GbDRr1A2v3t4fu46vj2tOzbrdPi/51v9X6wkITVZTj1vfTg57Q4m5PqcqJofyo0Owl2/BCte0b7PHwtYuzrWN1PiIWfzvpOqVeNJ9Yd1uyLjPxUlXpPqVctJ1aXqnoMLS8fInk29qnQ3ttFf0fjypVmYXU8CXZdaTG91qkmVrylVfL0GaV/bcLqvoudvD3ErE1YiwPZvTOFEcaVo+2RfFbYZY+vfjJ98n9UbtdNNQvLwy+T1E2Uiv66P1P/hvzaTFtnEtn6XXhsafmu0M+SWf1lChziAikkGofl4ZUt/TJF84eNKtrEYlntRPuwAr+yAz+15kJNLMaVH5KwuryyqcrVsw81sQxwNjxJFZbxAWBcecPE+hhD6wxhWGYHgHHl0PAT64a/wzgEbVgcgNvq8O2Gi6k5+fqKh68JFe+31vXwKx7ysN4PQKuD4eS4euChpIXh11hIa3ep1Nym7wMWYSlWWh7GVfcV5M4Pt721zAq+QTqk99unGdxa9yNGYTV/cXcfV4X9En7njnyu2up/Qqnj4VRYWG6Jw0X6FhbvV9mstOY7ao9i1LC6L5wXpBtjeN//Zli8XzWfChe/49/qwRs+miUvK5U63Vda+3daL6q3sPuzu4KJVW/nwC8+d1r979UPPoSxtz71OwB1P/dMZOOe/l4NP7Ee39/2P3S1qjOpHU6y0QfVLMLT+Ho+vx8Psx9XXdX+Y5Z/BDgcxaiXG3pRVJV+/hDhlUfwJkJY34/H1/Np8INEVc28XZy7IkJYNtRVBRMkLPXQ0lUVZkQtBAlLillVIU5YoqFlvK4Ks8yKE5YCs6oa+2iTWVUj3Oj7Y0ysdZazKuTZkLBWcAa8jrCWqKoJwjoW9K8uahHWAWZVneG/NrNqvqBV8a2H97/J03LLbiNmWKkqKTQU9lT49XzafOWhlWDLLCYWJMJOrCtGnxYeEJYjkc6GvJde5+SXf8a92MHEggRhret1Ghr69PeKsFwbtzPCcmfQRdUCYbnG4j2g7qehcatKhOXW0FUlwvJp9KoSYTkUoKpEWPvsl1kxqkqE9amcsy61MFWlwF+bEZHexzZMVYmw6ly/xehCsKoS32444/xRv+d9bFcxsVqqmGQhq0pMrDOu3yB060bIUatKhHXo9di3XbMHrioR1r6dY38xsthVJcLa8tFd/D+NLHxVibBWXTnwh5HdoarEu8J3+XnpwO+/MbxJVYmJtZCfeXpIdkiMv5BzHmH90lV1Q3wI/R9VtUVYkCCslBhXAoRFVRIs3iHBxIIEYUGCsCBBWJC4b1j5OeRdXEZxow+h55K4uGDgLmG9XqziwpWBO54KqcrAHcOCgTuGxbLdwF3WWNNjYvFuic8KIXHHUyEMEBYkCAsShAUJwoIEYUGCsCBBWJAgLEgQFiQICxKEBQnCggRhQYKwIEFYkCAsSBAWJAgLEoQFCcKCBGFBgrAgQViQICxIEBYkCAsShAUJwoIEYUGCsCBBWJAgLEgQFiQICxKEBQnCggRhQeIf2pLo9XxatXkAAAAASUVORK5CYII=\" alt=\"Mol\"/>  3.27     7  288.71  8.70\n",
       "9    4-GBLD_254                                                                                                                                                                                                                                                                                                                                                                                                                                                                                                                                  <img src=\"data:image/png;base64,iVBORw0KGgoAAAANSUhEUgAAAMgAAADICAIAAAAiOjnJAAAFVElEQVR4nO3cW3KcOgAAUUhl/1smH8RYBgbr1UiCPnW/cscewD1CyOB5WZZJqu1P6w3QMxmWEIYlhGEJYVhCGJYQhiWEYQlhWEIYlhCGJYRhCWFYQhiWEIYlhGEJYVhCGJYQhiWEYQlhWEIYlhCGJYRhCWFYQhiWEIYlhGEJYVhCGJYQhiWEYQlhWEIYlhCGJYRhCWFYQhiWEIYlhGEJYVhCGJYQhiWEYQlhWEIYlhCGJYRhCWFYQhiWEIYlhGEJYVhCGJYQhiWEYQlhWEIYlhCGJYRhCWFYQhiWEIYlhGEJYVhCGJYQhiWEYQlhWEIYlhCGJYRhCWFYQhiWEIbFmue59Sa0MS/L0nob9rYfRofblmHdnWfsS7zuwprn700KP+69bWeqcL/eoK+9vTj6T4hs3YVBNz5RR2HtxqqLDRv7XDnPb2irl8l7fFXTNC3LMmRSq3G3PEUXYSVVNQXT4eGvueb5/3/3veF8z0H7e8N7xHvXDDc8J8Lnx93k4Ybj3D6sbSfj93Ydq16UYK5Pk9FtsOeOYeOwCvuwsFMXFzdbT/TQ1TKs1KmVfvVpHLoeuogj3ywsq5qW5XvaXm/3U5eXobY6mmMlechJcG2r9l6kzp+IKVez5YZaO/OERYdKtk9axjrf+iUVj2QX61jqRMW2WoZVuBuOVRVVP5JPGLEsrEPtJ+8lwpnEoL+ZnqepyuZWuZSpeD3UOKwqF3e773AcvcZKrZHHLTcUOnZ5sTx4+n8VrHhUOzhjhxU52p2uGTa3u0fjYcV3sca49pF6fPPOoZ0sqx43o2TDau1UxcXajq4KtzW6zcWLO+kjzzyfDKJVrm0Lv0PFI9rLj+c0lE9zo7IPd+NbOI8bEA7VGafF3Zd08pHrYiOmiMWCcEZSss1tw7p497zbaKeze/d6aKv9FkyfH/la1Rqrgm9S2tbx3s8qD+DExBFzr9XFl9+mg7B++zlXXyyoEtb0ldEuslX29/90Woxf/g3vyI15PaR1WM2nPFm2UeritpeSO9qPQ3jqrCv+tAjded/0qnDMquJlX6LtrhAz7oFJutgkVveahjV4VeEdoHkvuPzaoqnStnAznbW1e+qsZDs/GXvl/WbHEZb4kdQSphm0td4JiL97nbAGvbMgSVhVuJfXe1xcXunxjPyVRvVPSJ2w9jPNr3+t8s2rO10suN7Y7QUZ08Lmo1rkp73udlY+Ff7Yh47/uEpSH7mPe6R+xfF97zh48aNvEnKOdfjNxfm/t3AcpY6fgq/tDZeFMk/1MYPiw9w1eb/x7xTkOW7Rdu6bGi1k93eQEnR0d8PNIqcUtR5gXJa+7gajvXq54f5p9c+2vmMdenA69cawjtPVe36uD3l6O86N+9nT5D1VvVs0z0esacijcuXGEethRy5d3F1WnV/kxHrv5P1m8WPeM6b4hnWHpDNp85X6KgwrSsmTDu+ZsIcMK9mvTxDtXpz366DRB603LjcUSr1XOPddxm7rjaN0tqRn1D69/iXeu+cZfr1duKvnZNp69c6XuOExtaG9ff8r8m/ahAxLCJcbhDAsIQxLCMMSwrCEMCwhDEsIwxLCsIQwLCEMSwjDEsKwhDAsIQxLCMMSwrCEMCwhDEsIwxLCsIQwLCEMSwjDEsKwhDAsIQxLCMMSwrCEMCwhDEsIwxLCsIQwLCEMSwjDEsKwhDAsIQxLCMMSwrCEMCwhDEsIwxLCsIQwLCEMSwjDEsKwhDAsIQxLCMMSwrCEMCwhDEsIwxLCsIQwLCEMSwjDEsKwhDAsIQxLCMMSwrCEMCwhDEsIwxLCsIQwLCEMSwjDEsKwhDAsIf4BDszfSSt4IkIAAAAASUVORK5CYII=\" alt=\"Mol\"/>  3.42   265  361.41  8.68"
      ]
     },
     "execution_count": 9,
     "metadata": {},
     "output_type": "execute_result"
    }
   ],
   "source": [
    "df"
   ]
  },
  {
   "cell_type": "code",
   "execution_count": null,
   "metadata": {
    "collapsed": true
   },
   "outputs": [],
   "source": []
  },
  {
   "cell_type": "code",
   "execution_count": null,
   "metadata": {
    "collapsed": true
   },
   "outputs": [],
   "source": []
  }
 ],
 "metadata": {
  "kernelspec": {
   "display_name": "Python 3",
   "language": "python",
   "name": "python3"
  },
  "language_info": {
   "codemirror_mode": {
    "name": "ipython",
    "version": 3
   },
   "file_extension": ".py",
   "mimetype": "text/x-python",
   "name": "python",
   "nbconvert_exporter": "python",
   "pygments_lexer": "ipython3",
   "version": "3.5.1"
  }
 },
 "nbformat": 4,
 "nbformat_minor": 0
}
