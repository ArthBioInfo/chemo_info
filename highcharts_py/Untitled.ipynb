{
 "cells": [
  {
   "cell_type": "code",
   "execution_count": 278,
   "metadata": {
    "collapsed": false
   },
   "outputs": [
    {
     "data": {
      "text/html": [
       "<script src=\"./Highcharts-4.2.5/js/highcharts.js\"></script>\n",
       "<script src=\"https://gist.github.com/iwatobipen/3c1355bf811ee12d8c16.js\"></script>"
      ],
      "text/plain": [
       "<IPython.core.display.HTML object>"
      ]
     },
     "metadata": {},
     "output_type": "display_data"
    }
   ],
   "source": [
    "%%html\n",
    "<script src=\"./Highcharts-4.2.5/js/highcharts.js\"></script>\n"
   ]
  },
  {
   "cell_type": "code",
   "execution_count": 251,
   "metadata": {
    "collapsed": false
   },
   "outputs": [],
   "source": [
    "from IPython.display import HTML\n",
    "from rdkit import Chem\n",
    "from rdkit.Chem import PandasTools\n",
    "from rdkit.Chem import DeleteSubstructs\n",
    "from rdkit.Chem.Draw import rdMolDraw2D\n",
    "from rdkit.Chem import rdDepictor\n",
    "from rdkit.Chem import Descriptors\n",
    "import jinja2\n",
    "mols = PandasTools.LoadSDF( \"testset.sdf\" )\n",
    "data =zip(\n",
    "         list(map(Descriptors.MolWt, mols.ROMol)),  list(map(Descriptors.MolLogP, mols.ROMol ))\n",
    "      )\n",
    "data = [ list(i) for i in data ]\n",
    "\n",
    "m = mols.ROMol[0]\n",
    "rdDepictor.Compute2DCoords(m)\n",
    "d2d = rdMolDraw2D.MolDraw2DSVG(200,200)\n",
    "d2d.DrawMolecule(m)\n",
    "d2d.FinishDrawing()\n",
    "svg1 = d2d.GetDrawingText().replace( \"svg:\", \"\" )\n"
   ]
  },
  {
   "cell_type": "code",
   "execution_count": 275,
   "metadata": {
    "collapsed": false
   },
   "outputs": [],
   "source": [
    "template = \"\"\"\n",
    "<div id=\"container\" style=\"width:100%; height:400px;\"></div>\n",
    "<script type=\"text/javascript\">\n",
    "$(function(){{\n",
    "             $(\"#container\").highcharts(\n",
    "             {{\"chart\": {{\"type\": \"scatter\", \"zoomType\": \"xy\"}},\n",
    "              \"series\": [{{\"data\": {data}, \"name\": \"mol/logp\"}}],\n",
    "              \"tooltip\" : {{ \"formatter\" : function() {{ \n",
    "                             return \"<img src='http://static.adzerk.net/Advertisers/bd294ce7ff4c43b6aad4aa4169fb819b.jpg' title='' alt='' border='0' height='250' width='220'>\";\n",
    "                             }}, useHTML: true }},\n",
    "              \"title\": {{\"text\": \"scatter_test\"}},\n",
    "              \"xAxis\": {{\"title\": {{\"text\": \"mol wt\"}} }},\n",
    "              \"yAxis\": {{\"title\": {{\"text\": \"logp\"}} }}\n",
    "            }}\n",
    "           );\n",
    "          }})\n",
    "</script>\n",
    "\"\"\""
   ]
  },
  {
   "cell_type": "code",
   "execution_count": 276,
   "metadata": {
    "collapsed": false
   },
   "outputs": [
    {
     "data": {
      "text/html": [
       "\n",
       "<div id=\"container\" style=\"width:100%; height:400px;\"></div>\n",
       "<script type=\"text/javascript\">\n",
       "$(function(){\n",
       "             $(\"#container\").highcharts(\n",
       "             {\"chart\": {\"type\": \"scatter\", \"zoomType\": \"xy\"},\n",
       "              \"series\": [{\"data\": [[375.43200000000013, 3.607800000000002], [329.74300000000005, 3.4262000000000015], [299.261, 2.5234000000000005], [378.4070000000001, 4.1647000000000025], [306.699, 3.407700000000001], [305.164, 3.7829000000000015], [315.716, 3.037700000000001], [375.43200000000013, 3.607800000000002], [288.709, 3.268600000000001], [361.4050000000001, 3.420600000000001]], \"name\": \"mol/logp\"}],\n",
       "              \"tooltip\" : { \"formatter\" : function() { \n",
       "                             return \"<img src='http://static.adzerk.net/Advertisers/bd294ce7ff4c43b6aad4aa4169fb819b.jpg' title='' alt='' border='0' height='250' width='220'>\";\n",
       "                             }, useHTML: true },\n",
       "              \"title\": {\"text\": \"scatter_test\"},\n",
       "              \"xAxis\": {\"title\": {\"text\": \"mol wt\"} },\n",
       "              \"yAxis\": {\"title\": {\"text\": \"logp\"} }\n",
       "            }\n",
       "           );\n",
       "          })\n",
       "</script>\n"
      ],
      "text/plain": [
       "<IPython.core.display.HTML object>"
      ]
     },
     "execution_count": 276,
     "metadata": {},
     "output_type": "execute_result"
    }
   ],
   "source": [
    "HTML(template.format(data=data))"
   ]
  },
  {
   "cell_type": "code",
   "execution_count": 236,
   "metadata": {
    "collapsed": false
   },
   "outputs": [
    {
     "data": {
      "text/html": [
       "<img src=http://www.w3schools.com/html/pic_mountain.jpg>"
      ],
      "text/plain": [
       "<IPython.core.display.HTML object>"
      ]
     },
     "metadata": {},
     "output_type": "display_data"
    }
   ],
   "source": [
    "%%html\n",
    "<img src=http://www.w3schools.com/html/pic_mountain.jpg>"
   ]
  },
  {
   "cell_type": "code",
   "execution_count": 214,
   "metadata": {
    "collapsed": false
   },
   "outputs": [
    {
     "data": {
      "text/plain": [
       "\"te{'t<p></p>e'}<p></p>te%te\""
      ]
     },
     "execution_count": 214,
     "metadata": {},
     "output_type": "execute_result"
    }
   ],
   "source": [
    "a.format(te=te)"
   ]
  },
  {
   "cell_type": "code",
   "execution_count": null,
   "metadata": {
    "collapsed": true
   },
   "outputs": [],
   "source": []
  }
 ],
 "metadata": {
  "kernelspec": {
   "display_name": "Python 3",
   "language": "python",
   "name": "python3"
  },
  "language_info": {
   "codemirror_mode": {
    "name": "ipython",
    "version": 3
   },
   "file_extension": ".py",
   "mimetype": "text/x-python",
   "name": "python",
   "nbconvert_exporter": "python",
   "pygments_lexer": "ipython3",
   "version": "3.5.1"
  }
 },
 "nbformat": 4,
 "nbformat_minor": 0
}
