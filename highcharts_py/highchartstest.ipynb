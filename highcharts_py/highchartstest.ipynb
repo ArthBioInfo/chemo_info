{
 "cells": [
  {
   "cell_type": "code",
   "execution_count": 179,
   "metadata": {
    "collapsed": true
   },
   "outputs": [],
   "source": [
    "from IPython.display import HTML\n",
    "from rdkit import Chem\n",
    "from rdkit.Chem import PandasTools\n",
    "from rdkit.Chem import Descriptors\n",
    "import json"
   ]
  },
  {
   "cell_type": "code",
   "execution_count": 180,
   "metadata": {
    "collapsed": false
   },
   "outputs": [
    {
     "data": {
      "text/html": [
       "<script src=\"./Highcharts-4.2.5/js/highcharts.js\"></script>"
      ],
      "text/plain": [
       "<IPython.core.display.HTML object>"
      ]
     },
     "metadata": {},
     "output_type": "display_data"
    }
   ],
   "source": [
    "%%html\n",
    "<script src=\"./Highcharts-4.2.5/js/highcharts.js\"></script>"
   ]
  },
  {
   "cell_type": "code",
   "execution_count": 181,
   "metadata": {
    "collapsed": true
   },
   "outputs": [],
   "source": [
    "mols = PandasTools.LoadSDF( \"testset.sdf\" )"
   ]
  },
  {
   "cell_type": "code",
   "execution_count": 182,
   "metadata": {
    "collapsed": false
   },
   "outputs": [],
   "source": [
    "data =zip(\n",
    "         list(map(Descriptors.MolWt, mols.ROMol)),  list(map(Descriptors.MolLogP, mols.ROMol ))\n",
    "      )\n",
    "data = [ list(i) for i in data ]\n",
    "chartdict = {\n",
    "    \"chart\" : { \"type\" : 'scatter', 'zoomType' : 'xy' },\n",
    "    \"title\" : { \"text\" : 'scatter_test' },\n",
    "    \"xAxis\" : { \"title\" : { \"text\" : \"mol wt\" } },\n",
    "    \"yAxis\" : { \"title\" : { \"text\" : \"logp\" } },\n",
    "    \"series\": [{ \"name\" : \"mol/logp\", \"data\" : data }]\n",
    " }\n"
   ]
  },
  {
   "cell_type": "code",
   "execution_count": 183,
   "metadata": {
    "collapsed": false
   },
   "outputs": [],
   "source": [
    "template = \"\"\"\n",
    "           <div id=\"container\" style=\"width:100%; height:400px;\"></div>\n",
    "           <script type=\"text/javascript\">\n",
    "           $(function(){{\n",
    "               $(\"#container\").highcharts({data});\n",
    "           }}\n",
    "           );\n",
    "           </script>\n",
    "\"\"\"\n"
   ]
  },
  {
   "cell_type": "code",
   "execution_count": 184,
   "metadata": {
    "collapsed": false
   },
   "outputs": [
    {
     "data": {
      "text/html": [
       "\n",
       "           <div id=\"container\" style=\"width:100%; height:400px;\"></div>\n",
       "           <script type=\"text/javascript\">\n",
       "           $(function(){\n",
       "               $(\"#container\").highcharts({\"yAxis\": {\"title\": {\"text\": \"logp\"}}, \"xAxis\": {\"title\": {\"text\": \"mol wt\"}}, \"title\": {\"text\": \"scatter_test\"}, \"chart\": {\"type\": \"scatter\", \"zoomType\": \"xy\"}, \"series\": [{\"data\": [[375.43200000000013, 3.607800000000002], [329.74300000000005, 3.4262000000000015], [299.261, 2.5234000000000005], [378.4070000000001, 4.1647000000000025], [306.699, 3.407700000000001], [305.164, 3.7829000000000015], [315.716, 3.037700000000001], [375.43200000000013, 3.607800000000002], [288.709, 3.268600000000001], [361.4050000000001, 3.420600000000001]], \"name\": \"mol/logp\"}]});\n",
       "           }\n",
       "           );\n",
       "           </script>\n"
      ],
      "text/plain": [
       "<IPython.core.display.HTML object>"
      ]
     },
     "execution_count": 184,
     "metadata": {},
     "output_type": "execute_result"
    }
   ],
   "source": [
    "HTML(template.format( data=json.dumps(chartdict)))"
   ]
  },
  {
   "cell_type": "code",
   "execution_count": 130,
   "metadata": {
    "collapsed": false
   },
   "outputs": [
    {
     "ename": "ValueError",
     "evalue": "unexpected '{' in field name",
     "output_type": "error",
     "traceback": [
      "\u001b[0;31m---------------------------------------------------------------------------\u001b[0m",
      "\u001b[0;31mValueError\u001b[0m                                Traceback (most recent call last)",
      "\u001b[0;32m<ipython-input-130-24f2a76e944b>\u001b[0m in \u001b[0;36m<module>\u001b[0;34m()\u001b[0m\n\u001b[0;32m----> 1\u001b[0;31m \u001b[0ma\u001b[0m\u001b[0;34m=\u001b[0m\u001b[0mtemplate\u001b[0m\u001b[0;34m.\u001b[0m\u001b[0mformat\u001b[0m\u001b[0;34m(\u001b[0m\u001b[0mdata\u001b[0m\u001b[0;34m=\u001b[0m\u001b[0mjson\u001b[0m\u001b[0;34m.\u001b[0m\u001b[0mdumps\u001b[0m\u001b[0;34m(\u001b[0m\u001b[0mchartdict\u001b[0m\u001b[0;34m)\u001b[0m\u001b[0;34m)\u001b[0m\u001b[0;34m\u001b[0m\u001b[0m\n\u001b[0m",
      "\u001b[0;31mValueError\u001b[0m: unexpected '{' in field name"
     ]
    }
   ],
   "source": [
    "a=template.format(data=json.dumps(chartdict))"
   ]
  },
  {
   "cell_type": "code",
   "execution_count": 117,
   "metadata": {
    "collapsed": false
   },
   "outputs": [
    {
     "data": {
      "text/html": [
       "\n",
       "           <div id=\"container\" style=\"width:100%; heigh:400px;\"></div>\n",
       "           <script type=\"text/javascript\">\n",
       "           $(function() {\n",
       "               $(\"#container\").highcharts();\n",
       "           }\n",
       "           );\n",
       "           </script>\n"
      ],
      "text/plain": [
       "<IPython.core.display.HTML object>"
      ]
     },
     "execution_count": 117,
     "metadata": {},
     "output_type": "execute_result"
    }
   ],
   "source": [
    "HTML(a)"
   ]
  },
  {
   "cell_type": "code",
   "execution_count": null,
   "metadata": {
    "collapsed": false
   },
   "outputs": [],
   "source": []
  },
  {
   "cell_type": "code",
   "execution_count": 118,
   "metadata": {
    "collapsed": false
   },
   "outputs": [
    {
     "data": {
      "text/plain": [
       "'\\n           <div id=\"container\" style=\"width:100%; heigh:400px;\"></div>\\n           <script type=\"text/javascript\">\\n           $(function() {\\n               $(\"#container\").highcharts();\\n           }\\n           );\\n           </script>\\n'"
      ]
     },
     "execution_count": 118,
     "metadata": {},
     "output_type": "execute_result"
    }
   ],
   "source": [
    "a"
   ]
  },
  {
   "cell_type": "code",
   "execution_count": null,
   "metadata": {
    "collapsed": true
   },
   "outputs": [],
   "source": []
  },
  {
   "cell_type": "code",
   "execution_count": 82,
   "metadata": {
    "collapsed": false
   },
   "outputs": [],
   "source": [
    "a='''\n",
    "<div id=\"container\" style=\"width:100%; height:400px;\"></div>\n",
    "<script>\n",
    "$(function () {\n",
    "    $('#container').highcharts({\n",
    "        \"chart\": {\n",
    "            type: 'scatter',\n",
    "            zoomType: 'xy'\n",
    "        },\n",
    "        title: {\n",
    "            text: 'Height Versus Weight of 507 Individuals by Gender'\n",
    "        },\n",
    "        subtitle: {\n",
    "            text: 'Source: Heinz  2003'\n",
    "        },\n",
    "        xAxis: {\n",
    "            title: {\n",
    "                enabled: true,\n",
    "                text: 'Height (cm)'\n",
    "            },\n",
    "            startOnTick: true,\n",
    "            endOnTick: true,\n",
    "            showLastLabel: true\n",
    "        },\n",
    "        yAxis: {\n",
    "            title: {\n",
    "                text: 'Weight (kg)'\n",
    "            }\n",
    "        },\n",
    "        legend: {\n",
    "            layout: 'vertical',\n",
    "            align: 'left',\n",
    "            verticalAlign: 'top',\n",
    "            x: 100,\n",
    "            y: 70,\n",
    "            floating: true,\n",
    "            backgroundColor: (Highcharts.theme && Highcharts.theme.legendBackgroundColor) || '#FFFFFF',\n",
    "            borderWidth: 1\n",
    "        },\n",
    "        plotOptions: {\n",
    "            scatter: {\n",
    "                marker: {\n",
    "                    radius: 5,\n",
    "                    states: {\n",
    "                        hover: {\n",
    "                            enabled: true,\n",
    "                            lineColor: 'rgb(100,100,100)'\n",
    "                        }\n",
    "                    }\n",
    "                },\n",
    "                states: {\n",
    "                    hover: {\n",
    "                        marker: {\n",
    "                            enabled: false\n",
    "                        }\n",
    "                    }\n",
    "                },\n",
    "                tooltip: {\n",
    "                    headerFormat: '<b>{series.name}</b><br>',\n",
    "                    pointFormat: '{point.x} cm, {point.y} kg'\n",
    "                }\n",
    "            }\n",
    "        },\n",
    "        series: [{\n",
    "            name: 'Female',\n",
    "            color: 'rgba(223, 83, 83, .5)',\n",
    "            data: [[161.2, 51.6], [167.5, 59.0], [159.5, 49.2], [157.0, 63.0], [155.8, 53.6],\n",
    "                [170.0, 59.0], [159.1, 47.6], [166.0, 69.8], [176.2, 66.8], [160.2, 75.2],\n",
    "                [172.5, 55.2], [170.9, 54.2], [172.9, 62.5], [153.4, 42.0], [160.0, 50.0],\n",
    "                [147.2, 49.8], [168.2, 49.2], [175.0, 73.2], [157.0, 47.8], [167.6, 68.8],\n",
    "                [159.5, 50.6], [175.0, 82.5], [166.8, 57.2], [176.5, 87.8], [170.2, 72.8],\n",
    "                [174.0, 54.5], [173.0, 59.8], [179.9, 67.3], [170.5, 67.8], [160.0, 47.0],\n",
    "              [161.3, 60.2], [149.5, 44.8], [157.5, 58.8], [163.2, 56.4],\n",
    "                [172.7, 62.0], [155.0, 49.2], [156.5, 67.2], [164.0, 53.8], [160.9, 54.4],\n",
    "                [162.8, 58.0], [167.0, 59.8], [160.0, 54.8], [160.0, 43.2], [168.9, 60.5],\n",
    "                [158.2, 46.4], [156.0, 64.4], [160.0, 48.8], [167.1, 62.2], [158.0, 55.5],\n",
    "                [167.6, 57.8], [156.0, 54.6], [162.1, 59.2], [173.4, 52.7], [159.8, 53.2],\n",
    "                [170.5, 64.5], [159.2, 51.8], [157.5, 56.0], [161.3, 63.6], [162.6, 63.2],\n",
    "                [160.0, 59.5], [168.9, 56.8], [165.1, 64.1], [162.6, 50.0], [165.1, 72.3],\n",
    "                [166.4, 55.0], [160.0, 55.9], [152.4, 60.4], [170.2, 69.1], [162.6, 84.5],\n",
    "                [170.2, 55.9], [158.8, 55.5], [172.7, 69.5], [167.6, 76.4], [162.6, 61.4],\n",
    "                [167.6, 65.9], [156.2, 58.6], [175.2, 66.8], [172.1, 56.6], [162.6, 58.6],\n",
    "                [160.0, 55.9], [165.1, 59.1], [182.9, 81.8], [166.4, 70.7], [165.1, 56.8],\n",
    "                [177.8, 60.0], [165.1, 58.2], [175.3, 72.7], [154.9, 54.1], [158.8, 49.1],\n",
    "                [172.7, 75.9], [168.9, 55.0], [161.3, 57.3], [167.6, 55.0], [165.1, 65.5],\n",
    "                [175.3, 65.5], [157.5, 48.6], [163.8, 58.6], [167.6, 63.6], [165.1, 55.2],\n",
    "                [165.1, 62.7], [168.9, 56.6], [162.6, 53.9], [164.5, 63.2], [176.5, 73.6],\n",
    "                [168.9, 62.0], [175.3, 63.6], [159.4, 53.2], [160.0, 53.4], [170.2, 55.0],\n",
    "                [162.6, 70.5], [167.6, 54.5], [162.6, 54.5], [160.7, 55.9], [160.0, 59.0],\n",
    "                [157.5, 63.6], [162.6, 54.5], [152.4, 47.3], [170.2, 67.7], [165.1, 80.9],\n",
    "                [172.7, 70.5], [165.1, 60.9], [170.2, 63.6], [170.2, 54.5], [170.2, 59.1],\n",
    "                [161.3, 70.5], [167.6, 52.7], [167.6, 62.7], [165.1, 86.3], [162.6, 66.4],\n",
    "                [152.4, 67.3], [168.9, 63.0], [170.2, 73.6], [175.2, 62.3], [175.2, 57.7],\n",
    "                [160.0, 55.4], [165.1, 104.1], [174.0, 55.5], [170.2, 77.3], [160.0, 80.5],\n",
    "                [167.6, 64.5], [167.6, 72.3], [167.6, 61.4], [154.9, 58.2], [162.6, 81.8],\n",
    "                [175.3, 63.6], [171.4, 53.4], [157.5, 54.5], [165.1, 53.6], [160.0, 60.0],\n",
    "                [174.0, 73.6], [162.6, 61.4], [174.0, 55.5], [162.6, 63.6], [161.3, 60.9],\n",
    "                [156.2, 60.0], [149.9, 46.8], [169.5, 57.3], [160.0, 64.1], [175.3, 63.6],\n",
    "                [169.5, 67.3], [160.0, 75.5], [172.7, 68.2], [162.6, 61.4], [157.5, 76.8],\n",
    "                [176.5, 71.8], [164.4, 55.5], [160.7, 48.6], [174.0, 66.4], [163.8, 67.3]]\n",
    "\n",
    "        }]\n",
    "    });\n",
    "});\n",
    "</script>\n",
    "'''"
   ]
  },
  {
   "cell_type": "code",
   "execution_count": 50,
   "metadata": {
    "collapsed": false
   },
   "outputs": [
    {
     "data": {
      "text/html": [
       "\n",
       "<div id=\"container\" style=\"width:100%; height:400px;\"></div>\n",
       "<script>\n",
       "$(function () {\n",
       "    $('#container').highcharts({\n",
       "        \"chart\": {\n",
       "            type: 'scatter',\n",
       "            zoomType: 'xy'\n",
       "        },\n",
       "        title: {\n",
       "            text: 'Height Versus Weight of 507 Individuals by Gender'\n",
       "        },\n",
       "        subtitle: {\n",
       "            text: 'Source: Heinz  2003'\n",
       "        },\n",
       "        xAxis: {\n",
       "            title: {\n",
       "                enabled: true,\n",
       "                text: 'Height (cm)'\n",
       "            },\n",
       "            startOnTick: true,\n",
       "            endOnTick: true,\n",
       "            showLastLabel: true\n",
       "        },\n",
       "        yAxis: {\n",
       "            title: {\n",
       "                text: 'Weight (kg)'\n",
       "            }\n",
       "        },\n",
       "        legend: {\n",
       "            layout: 'vertical',\n",
       "            align: 'left',\n",
       "            verticalAlign: 'top',\n",
       "            x: 100,\n",
       "            y: 70,\n",
       "            floating: true,\n",
       "            backgroundColor: (Highcharts.theme && Highcharts.theme.legendBackgroundColor) || '#FFFFFF',\n",
       "            borderWidth: 1\n",
       "        },\n",
       "        plotOptions: {\n",
       "            scatter: {\n",
       "                marker: {\n",
       "                    radius: 5,\n",
       "                    states: {\n",
       "                        hover: {\n",
       "                            enabled: true,\n",
       "                            lineColor: 'rgb(100,100,100)'\n",
       "                        }\n",
       "                    }\n",
       "                },\n",
       "                states: {\n",
       "                    hover: {\n",
       "                        marker: {\n",
       "                            enabled: false\n",
       "                        }\n",
       "                    }\n",
       "                },\n",
       "                tooltip: {\n",
       "                    headerFormat: '<b>{series.name}</b><br>',\n",
       "                    pointFormat: '{point.x} cm, {point.y} kg'\n",
       "                }\n",
       "            }\n",
       "        },\n",
       "        series: [{\n",
       "            name: 'Female',\n",
       "            color: 'rgba(223, 83, 83, .5)',\n",
       "            data: [[161.2, 51.6], [167.5, 59.0], [159.5, 49.2], [157.0, 63.0], [155.8, 53.6],\n",
       "                [170.0, 59.0], [159.1, 47.6], [166.0, 69.8], [176.2, 66.8], [160.2, 75.2],\n",
       "                [172.5, 55.2], [170.9, 54.2], [172.9, 62.5], [153.4, 42.0], [160.0, 50.0],\n",
       "                [147.2, 49.8], [168.2, 49.2], [175.0, 73.2], [157.0, 47.8], [167.6, 68.8],\n",
       "                [159.5, 50.6], [175.0, 82.5], [166.8, 57.2], [176.5, 87.8], [170.2, 72.8],\n",
       "                [174.0, 54.5], [173.0, 59.8], [179.9, 67.3], [170.5, 67.8], [160.0, 47.0],\n",
       "              [161.3, 60.2], [149.5, 44.8], [157.5, 58.8], [163.2, 56.4],\n",
       "                [172.7, 62.0], [155.0, 49.2], [156.5, 67.2], [164.0, 53.8], [160.9, 54.4],\n",
       "                [162.8, 58.0], [167.0, 59.8], [160.0, 54.8], [160.0, 43.2], [168.9, 60.5],\n",
       "                [158.2, 46.4], [156.0, 64.4], [160.0, 48.8], [167.1, 62.2], [158.0, 55.5],\n",
       "                [167.6, 57.8], [156.0, 54.6], [162.1, 59.2], [173.4, 52.7], [159.8, 53.2],\n",
       "                [170.5, 64.5], [159.2, 51.8], [157.5, 56.0], [161.3, 63.6], [162.6, 63.2],\n",
       "                [160.0, 59.5], [168.9, 56.8], [165.1, 64.1], [162.6, 50.0], [165.1, 72.3],\n",
       "                [166.4, 55.0], [160.0, 55.9], [152.4, 60.4], [170.2, 69.1], [162.6, 84.5],\n",
       "                [170.2, 55.9], [158.8, 55.5], [172.7, 69.5], [167.6, 76.4], [162.6, 61.4],\n",
       "                [167.6, 65.9], [156.2, 58.6], [175.2, 66.8], [172.1, 56.6], [162.6, 58.6],\n",
       "                [160.0, 55.9], [165.1, 59.1], [182.9, 81.8], [166.4, 70.7], [165.1, 56.8],\n",
       "                [177.8, 60.0], [165.1, 58.2], [175.3, 72.7], [154.9, 54.1], [158.8, 49.1],\n",
       "                [172.7, 75.9], [168.9, 55.0], [161.3, 57.3], [167.6, 55.0], [165.1, 65.5],\n",
       "                [175.3, 65.5], [157.5, 48.6], [163.8, 58.6], [167.6, 63.6], [165.1, 55.2],\n",
       "                [165.1, 62.7], [168.9, 56.6], [162.6, 53.9], [164.5, 63.2], [176.5, 73.6],\n",
       "                [168.9, 62.0], [175.3, 63.6], [159.4, 53.2], [160.0, 53.4], [170.2, 55.0],\n",
       "                [162.6, 70.5], [167.6, 54.5], [162.6, 54.5], [160.7, 55.9], [160.0, 59.0],\n",
       "                [157.5, 63.6], [162.6, 54.5], [152.4, 47.3], [170.2, 67.7], [165.1, 80.9],\n",
       "                [172.7, 70.5], [165.1, 60.9], [170.2, 63.6], [170.2, 54.5], [170.2, 59.1],\n",
       "                [161.3, 70.5], [167.6, 52.7], [167.6, 62.7], [165.1, 86.3], [162.6, 66.4],\n",
       "                [152.4, 67.3], [168.9, 63.0], [170.2, 73.6], [175.2, 62.3], [175.2, 57.7],\n",
       "                [160.0, 55.4], [165.1, 104.1], [174.0, 55.5], [170.2, 77.3], [160.0, 80.5],\n",
       "                [167.6, 64.5], [167.6, 72.3], [167.6, 61.4], [154.9, 58.2], [162.6, 81.8],\n",
       "                [175.3, 63.6], [171.4, 53.4], [157.5, 54.5], [165.1, 53.6], [160.0, 60.0],\n",
       "                [174.0, 73.6], [162.6, 61.4], [174.0, 55.5], [162.6, 63.6], [161.3, 60.9],\n",
       "                [156.2, 60.0], [149.9, 46.8], [169.5, 57.3], [160.0, 64.1], [175.3, 63.6],\n",
       "                [169.5, 67.3], [160.0, 75.5], [172.7, 68.2], [162.6, 61.4], [157.5, 76.8],\n",
       "                [176.5, 71.8], [164.4, 55.5], [160.7, 48.6], [174.0, 66.4], [163.8, 67.3]]\n",
       "\n",
       "        }]\n",
       "    });\n",
       "});\n",
       "</script>\n"
      ],
      "text/plain": [
       "<IPython.core.display.HTML object>"
      ]
     },
     "execution_count": 50,
     "metadata": {},
     "output_type": "execute_result"
    }
   ],
   "source": [
    "HTML(a)"
   ]
  },
  {
   "cell_type": "code",
   "execution_count": null,
   "metadata": {
    "collapsed": true
   },
   "outputs": [],
   "source": []
  },
  {
   "cell_type": "code",
   "execution_count": null,
   "metadata": {
    "collapsed": true
   },
   "outputs": [],
   "source": []
  }
 ],
 "metadata": {
  "kernelspec": {
   "display_name": "Python 3",
   "language": "python",
   "name": "python3"
  },
  "language_info": {
   "codemirror_mode": {
    "name": "ipython",
    "version": 3
   },
   "file_extension": ".py",
   "mimetype": "text/x-python",
   "name": "python",
   "nbconvert_exporter": "python",
   "pygments_lexer": "ipython3",
   "version": "3.5.1"
  }
 },
 "nbformat": 4,
 "nbformat_minor": 0
}
