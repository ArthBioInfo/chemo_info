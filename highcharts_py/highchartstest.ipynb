{
 "cells": [
  {
   "cell_type": "code",
   "execution_count": 179,
   "metadata": {
    "collapsed": true
   },
   "outputs": [],
   "source": [
    "from IPython.display import HTML\n",
    "from rdkit import Chem\n",
    "from rdkit.Chem import PandasTools\n",
    "from rdkit.Chem import Descriptors\n",
    "import json"
   ]
  },
  {
   "cell_type": "code",
   "execution_count": 180,
   "metadata": {
    "collapsed": false
   },
   "outputs": [
    {
     "data": {
      "text/html": [
       "<script src=\"./Highcharts-4.2.5/js/highcharts.js\"></script>"
      ],
      "text/plain": [
       "<IPython.core.display.HTML object>"
      ]
     },
     "metadata": {},
     "output_type": "display_data"
    }
   ],
   "source": [
    "%%html\n",
    "<script src=\"./Highcharts-4.2.5/js/highcharts.js\"></script>"
   ]
  },
  {
   "cell_type": "code",
   "execution_count": 181,
   "metadata": {
    "collapsed": true
   },
   "outputs": [],
   "source": [
    "mols = PandasTools.LoadSDF( \"testset.sdf\" )"
   ]
  },
  {
   "cell_type": "code",
   "execution_count": 182,
   "metadata": {
    "collapsed": false
   },
   "outputs": [],
   "source": [
    "data =zip(\n",
    "         list(map(Descriptors.MolWt, mols.ROMol)),  list(map(Descriptors.MolLogP, mols.ROMol ))\n",
    "      )\n",
    "data = [ list(i) for i in data ]\n",
    "chartdict = {\n",
    "    \"chart\" : { \"type\" : 'scatter', 'zoomType' : 'xy' },\n",
    "    \"title\" : { \"text\" : 'scatter_test' },\n",
    "    \"xAxis\" : { \"title\" : { \"text\" : \"mol wt\" } },\n",
    "    \"yAxis\" : { \"title\" : { \"text\" : \"logp\" } },\n",
    "    \"series\": [{ \"name\" : \"mol/logp\", \"data\" : data }]\n",
    " }\n"
   ]
  },
  {
   "cell_type": "code",
   "execution_count": 183,
   "metadata": {
    "collapsed": false
   },
   "outputs": [],
   "source": [
    "template = \"\"\"\n",
    "           <div id=\"container\" style=\"width:100%; height:400px;\"></div>\n",
    "           <script type=\"text/javascript\">\n",
    "           $(function(){{\n",
    "               $(\"#container\").highcharts({data});\n",
    "           }}\n",
    "           );\n",
    "           </script>\n",
    "\"\"\"\n"
   ]
  },
  {
   "cell_type": "code",
   "execution_count": 184,
   "metadata": {
    "collapsed": false
   },
   "outputs": [
    {
     "data": {
      "text/html": [
       "\n",
       "           <div id=\"container\" style=\"width:100%; height:400px;\"></div>\n",
       "           <script type=\"text/javascript\">\n",
       "           $(function(){\n",
       "               $(\"#container\").highcharts({\"yAxis\": {\"title\": {\"text\": \"logp\"}}, \"xAxis\": {\"title\": {\"text\": \"mol wt\"}}, \"title\": {\"text\": \"scatter_test\"}, \"chart\": {\"type\": \"scatter\", \"zoomType\": \"xy\"}, \"series\": [{\"data\": [[375.43200000000013, 3.607800000000002], [329.74300000000005, 3.4262000000000015], [299.261, 2.5234000000000005], [378.4070000000001, 4.1647000000000025], [306.699, 3.407700000000001], [305.164, 3.7829000000000015], [315.716, 3.037700000000001], [375.43200000000013, 3.607800000000002], [288.709, 3.268600000000001], [361.4050000000001, 3.420600000000001]], \"name\": \"mol/logp\"}]});\n",
       "           }\n",
       "           );\n",
       "           </script>\n"
      ],
      "text/plain": [
       "<IPython.core.display.HTML object>"
      ]
     },
     "execution_count": 184,
     "metadata": {},
     "output_type": "execute_result"
    }
   ],
   "source": [
    "HTML(template.format( data=json.dumps(chartdict)))"
   ]
  }
 ],
 "metadata": {
  "kernelspec": {
   "display_name": "Python 3",
   "language": "python",
   "name": "python3"
  },
  "language_info": {
   "codemirror_mode": {
    "name": "ipython",
    "version": 3
   },
   "file_extension": ".py",
   "mimetype": "text/x-python",
   "name": "python",
   "nbconvert_exporter": "python",
   "pygments_lexer": "ipython3",
   "version": "3.5.1"
  }
 },
 "nbformat": 4,
 "nbformat_minor": 0
}
